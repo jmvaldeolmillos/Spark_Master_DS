{
 "cells": [
  {
   "cell_type": "markdown",
   "metadata": {},
   "source": [
    "# Ciclo de Vida de Análisis"
   ]
  },
  {
   "cell_type": "code",
   "execution_count": 1,
   "metadata": {
    "collapsed": false
   },
   "outputs": [
    {
     "name": "stdout",
     "output_type": "stream",
     "text": [
      "\u001b[0m\u001b[01;31msales_segments.csv.gz\u001b[0m\r\n"
     ]
    }
   ],
   "source": [
    "# con % ejecutamos comandos de linea.\n",
    "%ls data"
   ]
  },
  {
   "cell_type": "code",
   "execution_count": 2,
   "metadata": {
    "collapsed": true
   },
   "outputs": [],
   "source": [
    "# trabajamos con fichero comprimido. Spark tb los maneja. Mejor bz2\n",
    "import gzip"
   ]
  },
  {
   "cell_type": "code",
   "execution_count": 3,
   "metadata": {
    "collapsed": true
   },
   "outputs": [],
   "source": [
    "f = gzip.GzipFile(\"data/sales_segments.csv.gz\")"
   ]
  },
  {
   "cell_type": "code",
   "execution_count": 4,
   "metadata": {
    "collapsed": true
   },
   "outputs": [],
   "source": [
    "import pandas as pd"
   ]
  },
  {
   "cell_type": "code",
   "execution_count": 5,
   "metadata": {
    "collapsed": true
   },
   "outputs": [],
   "source": [
    "df = pd.read_csv(f)"
   ]
  },
  {
   "cell_type": "code",
   "execution_count": 6,
   "metadata": {
    "collapsed": true
   },
   "outputs": [
    {
     "data": {
      "text/html": [
       "<div>\n",
       "<table border=\"1\" class=\"dataframe\">\n",
       "  <thead>\n",
       "    <tr style=\"text-align: right;\">\n",
       "      <th></th>\n",
       "      <th>rloc^departure_date_seg^booking_date^freq_flyer_flag^creator_office_id^creator_iata_number^creator_gds_code^creator_city_code^creator_lat^creator_lon^creator_country_code^creator_continent_code^creator_channel_code^booking_status_code^cabin_code^booking_class_code^pos_office_id^pos_iata_number^pos_gds_code^pos_city_code^pos_lat^pos_lon^pos_country_code^pos_continent_code^pos_channel_code^board_point_seg^board_lat^board_lon^board_country_code^board_continent_code^off_point_seg^off_lat^off_lon^off_country_code^off_continent_code^num_legs^distance_seg^route^network^airline_code^flight_number^flight_type^revenue_source^estimated_flag^usage_board_point_seg^usage_off_point_seg^usage_flight_number^usage_date^non_currency_type^bookings_seg^rpk_seg^revenue_amount_seg^currency_code^fuel_surcharge_amount_seg^fuel_surcharge_currency_code^emd_count^emd_amount^emd_currency_code^total_outliers</th>\n",
       "    </tr>\n",
       "  </thead>\n",
       "  <tbody>\n",
       "    <tr>\n",
       "      <th>0</th>\n",
       "      <td>59GS9Y^2013-12-21^2013-09-05^false^RUNHS3103^6...</td>\n",
       "    </tr>\n",
       "    <tr>\n",
       "      <th>1</th>\n",
       "      <td>4D87YU^2013-12-29^2013-01-29^false^RUNUU000B^6...</td>\n",
       "    </tr>\n",
       "    <tr>\n",
       "      <th>2</th>\n",
       "      <td>7W67K8^2013-12-29^2013-02-05^false^RUNUU01A3^6...</td>\n",
       "    </tr>\n",
       "    <tr>\n",
       "      <th>3</th>\n",
       "      <td>3ESPWM^2013-12-29^2013-03-19^false^RUNUU010C^6...</td>\n",
       "    </tr>\n",
       "    <tr>\n",
       "      <th>4</th>\n",
       "      <td>6ITPJM^2013-12-29^2013-05-11^false^MRSA12108^2...</td>\n",
       "    </tr>\n",
       "  </tbody>\n",
       "</table>\n",
       "</div>"
      ],
      "text/plain": [
       "  rloc^departure_date_seg^booking_date^freq_flyer_flag^creator_office_id^creator_iata_number^creator_gds_code^creator_city_code^creator_lat^creator_lon^creator_country_code^creator_continent_code^creator_channel_code^booking_status_code^cabin_code^booking_class_code^pos_office_id^pos_iata_number^pos_gds_code^pos_city_code^pos_lat^pos_lon^pos_country_code^pos_continent_code^pos_channel_code^board_point_seg^board_lat^board_lon^board_country_code^board_continent_code^off_point_seg^off_lat^off_lon^off_country_code^off_continent_code^num_legs^distance_seg^route^network^airline_code^flight_number^flight_type^revenue_source^estimated_flag^usage_board_point_seg^usage_off_point_seg^usage_flight_number^usage_date^non_currency_type^bookings_seg^rpk_seg^revenue_amount_seg^currency_code^fuel_surcharge_amount_seg^fuel_surcharge_currency_code^emd_count^emd_amount^emd_currency_code^total_outliers\n",
       "0  59GS9Y^2013-12-21^2013-09-05^false^RUNHS3103^6...                                                                                                                                                                                                                                                                                                                                                                                                                                                                                                                                                                                                                                                                                                                                                                                                                                                                         \n",
       "1  4D87YU^2013-12-29^2013-01-29^false^RUNUU000B^6...                                                                                                                                                                                                                                                                                                                                                                                                                                                                                                                                                                                                                                                                                                                                                                                                                                                                         \n",
       "2  7W67K8^2013-12-29^2013-02-05^false^RUNUU01A3^6...                                                                                                                                                                                                                                                                                                                                                                                                                                                                                                                                                                                                                                                                                                                                                                                                                                                                         \n",
       "3  3ESPWM^2013-12-29^2013-03-19^false^RUNUU010C^6...                                                                                                                                                                                                                                                                                                                                                                                                                                                                                                                                                                                                                                                                                                                                                                                                                                                                         \n",
       "4  6ITPJM^2013-12-29^2013-05-11^false^MRSA12108^2...                                                                                                                                                                                                                                                                                                                                                                                                                                                                                                                                                                                                                                                                                                                                                                                                                                                                         "
      ]
     },
     "execution_count": 6,
     "metadata": {},
     "output_type": "execute_result"
    }
   ],
   "source": [
    "df.head()"
   ]
  },
  {
   "cell_type": "code",
   "execution_count": 7,
   "metadata": {
    "collapsed": true
   },
   "outputs": [],
   "source": [
    "f = gzip.GzipFile(\"data/sales_segments.csv.gz\")"
   ]
  },
  {
   "cell_type": "code",
   "execution_count": 8,
   "metadata": {
    "collapsed": false
   },
   "outputs": [
    {
     "name": "stderr",
     "output_type": "stream",
     "text": [
      "/usr/lib64/python2.7/site-packages/pandas/io/parsers.py:1170: DtypeWarning: Columns (40,44,45,47,48,57) have mixed types. Specify dtype option on import or set low_memory=False.\n",
      "  data = self._reader.read(nrows)\n"
     ]
    }
   ],
   "source": [
    "df = pd.read_csv(f, sep='^')"
   ]
  },
  {
   "cell_type": "code",
   "execution_count": 9,
   "metadata": {
    "collapsed": false
   },
   "outputs": [
    {
     "data": {
      "text/html": [
       "<div>\n",
       "<table border=\"1\" class=\"dataframe\">\n",
       "  <thead>\n",
       "    <tr style=\"text-align: right;\">\n",
       "      <th></th>\n",
       "      <th>rloc</th>\n",
       "      <th>departure_date_seg</th>\n",
       "      <th>booking_date</th>\n",
       "      <th>freq_flyer_flag</th>\n",
       "      <th>creator_office_id</th>\n",
       "      <th>creator_iata_number</th>\n",
       "      <th>creator_gds_code</th>\n",
       "      <th>creator_city_code</th>\n",
       "      <th>creator_lat</th>\n",
       "      <th>creator_lon</th>\n",
       "      <th>...</th>\n",
       "      <th>bookings_seg</th>\n",
       "      <th>rpk_seg</th>\n",
       "      <th>revenue_amount_seg</th>\n",
       "      <th>currency_code</th>\n",
       "      <th>fuel_surcharge_amount_seg</th>\n",
       "      <th>fuel_surcharge_currency_code</th>\n",
       "      <th>emd_count</th>\n",
       "      <th>emd_amount</th>\n",
       "      <th>emd_currency_code</th>\n",
       "      <th>total_outliers</th>\n",
       "    </tr>\n",
       "  </thead>\n",
       "  <tbody>\n",
       "    <tr>\n",
       "      <th>0</th>\n",
       "      <td>59GS9Y</td>\n",
       "      <td>2013-12-21</td>\n",
       "      <td>2013-09-05</td>\n",
       "      <td>False</td>\n",
       "      <td>RUNHS3103</td>\n",
       "      <td>66200201</td>\n",
       "      <td>1A</td>\n",
       "      <td>RUN</td>\n",
       "      <td>-20.90083</td>\n",
       "      <td>55.53715</td>\n",
       "      <td>...</td>\n",
       "      <td>1</td>\n",
       "      <td>239</td>\n",
       "      <td>33.56</td>\n",
       "      <td>EUR</td>\n",
       "      <td>7.30</td>\n",
       "      <td>EUR</td>\n",
       "      <td>0</td>\n",
       "      <td>0</td>\n",
       "      <td>NaN</td>\n",
       "      <td>7.300000</td>\n",
       "    </tr>\n",
       "    <tr>\n",
       "      <th>1</th>\n",
       "      <td>4D87YU</td>\n",
       "      <td>2013-12-29</td>\n",
       "      <td>2013-01-29</td>\n",
       "      <td>False</td>\n",
       "      <td>RUNUU000B</td>\n",
       "      <td>66490104</td>\n",
       "      <td>UU</td>\n",
       "      <td>RUN</td>\n",
       "      <td>-20.90083</td>\n",
       "      <td>55.53715</td>\n",
       "      <td>...</td>\n",
       "      <td>5</td>\n",
       "      <td>1116</td>\n",
       "      <td>306.00</td>\n",
       "      <td>EUR</td>\n",
       "      <td>127.50</td>\n",
       "      <td>EUR</td>\n",
       "      <td>0</td>\n",
       "      <td>0</td>\n",
       "      <td>NaN</td>\n",
       "      <td>77.271017</td>\n",
       "    </tr>\n",
       "    <tr>\n",
       "      <th>2</th>\n",
       "      <td>7W67K8</td>\n",
       "      <td>2013-12-29</td>\n",
       "      <td>2013-02-05</td>\n",
       "      <td>False</td>\n",
       "      <td>RUNUU01A3</td>\n",
       "      <td>66490830</td>\n",
       "      <td>UU</td>\n",
       "      <td>RUN</td>\n",
       "      <td>-20.90083</td>\n",
       "      <td>55.53715</td>\n",
       "      <td>...</td>\n",
       "      <td>19</td>\n",
       "      <td>4240</td>\n",
       "      <td>1365.50</td>\n",
       "      <td>EUR</td>\n",
       "      <td>234.00</td>\n",
       "      <td>EUR</td>\n",
       "      <td>0</td>\n",
       "      <td>0</td>\n",
       "      <td>NaN</td>\n",
       "      <td>278.175661</td>\n",
       "    </tr>\n",
       "    <tr>\n",
       "      <th>3</th>\n",
       "      <td>3ESPWM</td>\n",
       "      <td>2013-12-29</td>\n",
       "      <td>2013-03-19</td>\n",
       "      <td>False</td>\n",
       "      <td>RUNUU010C</td>\n",
       "      <td>66490771</td>\n",
       "      <td>UU</td>\n",
       "      <td>RUN</td>\n",
       "      <td>-20.90083</td>\n",
       "      <td>55.53715</td>\n",
       "      <td>...</td>\n",
       "      <td>3</td>\n",
       "      <td>1220</td>\n",
       "      <td>81.35</td>\n",
       "      <td>EUR</td>\n",
       "      <td>39.93</td>\n",
       "      <td>EUR</td>\n",
       "      <td>0</td>\n",
       "      <td>0</td>\n",
       "      <td>NaN</td>\n",
       "      <td>32.458243</td>\n",
       "    </tr>\n",
       "    <tr>\n",
       "      <th>4</th>\n",
       "      <td>6ITPJM</td>\n",
       "      <td>2013-12-29</td>\n",
       "      <td>2013-05-11</td>\n",
       "      <td>False</td>\n",
       "      <td>MRSA12108</td>\n",
       "      <td>20261721</td>\n",
       "      <td>1A</td>\n",
       "      <td>MRS</td>\n",
       "      <td>43.29695</td>\n",
       "      <td>5.38107</td>\n",
       "      <td>...</td>\n",
       "      <td>2</td>\n",
       "      <td>1342</td>\n",
       "      <td>0.00</td>\n",
       "      <td>EUR</td>\n",
       "      <td>31.82</td>\n",
       "      <td>EUR</td>\n",
       "      <td>0</td>\n",
       "      <td>0</td>\n",
       "      <td>NaN</td>\n",
       "      <td>32.496507</td>\n",
       "    </tr>\n",
       "  </tbody>\n",
       "</table>\n",
       "<p>5 rows × 59 columns</p>\n",
       "</div>"
      ],
      "text/plain": [
       "     rloc departure_date_seg booking_date freq_flyer_flag creator_office_id  \\\n",
       "0  59GS9Y         2013-12-21   2013-09-05           False         RUNHS3103   \n",
       "1  4D87YU         2013-12-29   2013-01-29           False         RUNUU000B   \n",
       "2  7W67K8         2013-12-29   2013-02-05           False         RUNUU01A3   \n",
       "3  3ESPWM         2013-12-29   2013-03-19           False         RUNUU010C   \n",
       "4  6ITPJM         2013-12-29   2013-05-11           False         MRSA12108   \n",
       "\n",
       "   creator_iata_number creator_gds_code creator_city_code  creator_lat  \\\n",
       "0             66200201               1A               RUN    -20.90083   \n",
       "1             66490104               UU               RUN    -20.90083   \n",
       "2             66490830               UU               RUN    -20.90083   \n",
       "3             66490771               UU               RUN    -20.90083   \n",
       "4             20261721               1A               MRS     43.29695   \n",
       "\n",
       "   creator_lon      ...       bookings_seg rpk_seg revenue_amount_seg  \\\n",
       "0     55.53715      ...                  1     239              33.56   \n",
       "1     55.53715      ...                  5    1116             306.00   \n",
       "2     55.53715      ...                 19    4240            1365.50   \n",
       "3     55.53715      ...                  3    1220              81.35   \n",
       "4      5.38107      ...                  2    1342               0.00   \n",
       "\n",
       "  currency_code fuel_surcharge_amount_seg fuel_surcharge_currency_code  \\\n",
       "0           EUR                      7.30                          EUR   \n",
       "1           EUR                    127.50                          EUR   \n",
       "2           EUR                    234.00                          EUR   \n",
       "3           EUR                     39.93                          EUR   \n",
       "4           EUR                     31.82                          EUR   \n",
       "\n",
       "  emd_count  emd_amount emd_currency_code total_outliers  \n",
       "0         0           0               NaN       7.300000  \n",
       "1         0           0               NaN      77.271017  \n",
       "2         0           0               NaN     278.175661  \n",
       "3         0           0               NaN      32.458243  \n",
       "4         0           0               NaN      32.496507  \n",
       "\n",
       "[5 rows x 59 columns]"
      ]
     },
     "execution_count": 9,
     "metadata": {},
     "output_type": "execute_result"
    }
   ],
   "source": [
    "df.head()"
   ]
  },
  {
   "cell_type": "code",
   "execution_count": 10,
   "metadata": {
    "collapsed": false,
    "scrolled": true
   },
   "outputs": [
    {
     "data": {
      "text/plain": [
       "rloc                            1459121\n",
       "departure_date_seg              1459121\n",
       "booking_date                    1459121\n",
       "freq_flyer_flag                 1459121\n",
       "creator_office_id               1459121\n",
       "creator_iata_number             1414716\n",
       "creator_gds_code                1459121\n",
       "creator_city_code               1459121\n",
       "creator_lat                     1459121\n",
       "creator_lon                     1459121\n",
       "creator_country_code            1459103\n",
       "creator_continent_code          1459121\n",
       "creator_channel_code            1454248\n",
       "booking_status_code             1458491\n",
       "cabin_code                      1459121\n",
       "booking_class_code              1459121\n",
       "pos_office_id                   1455702\n",
       "pos_iata_number                 1455702\n",
       "pos_gds_code                    1455702\n",
       "pos_city_code                   1448816\n",
       "pos_lat                         1448816\n",
       "pos_lon                         1448816\n",
       "pos_country_code                1448798\n",
       "pos_continent_code              1448816\n",
       "pos_channel_code                1455216\n",
       "board_point_seg                 1459121\n",
       "board_lat                       1459120\n",
       "board_lon                       1459120\n",
       "board_country_code              1459079\n",
       "board_continent_code            1459120\n",
       "off_point_seg                   1459121\n",
       "off_lat                         1459120\n",
       "off_lon                         1459120\n",
       "off_country_code                1459073\n",
       "off_continent_code              1459120\n",
       "num_legs                        1459121\n",
       "distance_seg                    1459121\n",
       "route                           1459120\n",
       "network                         1459120\n",
       "airline_code                    1459121\n",
       "flight_number                   1459121\n",
       "flight_type                     1459120\n",
       "revenue_source                  1459121\n",
       "estimated_flag                  1459121\n",
       "usage_board_point_seg           1294884\n",
       "usage_off_point_seg             1294884\n",
       "usage_flight_number             1294228\n",
       "usage_date                      1294884\n",
       "non_currency_type                171602\n",
       "bookings_seg                    1459121\n",
       "rpk_seg                         1459121\n",
       "revenue_amount_seg              1459121\n",
       "currency_code                   1459121\n",
       "fuel_surcharge_amount_seg       1459121\n",
       "fuel_surcharge_currency_code    1459121\n",
       "emd_count                       1459121\n",
       "emd_amount                      1459121\n",
       "emd_currency_code                 33768\n",
       "total_outliers                  1459121\n",
       "dtype: int64"
      ]
     },
     "execution_count": 10,
     "metadata": {},
     "output_type": "execute_result"
    }
   ],
   "source": [
    "df.count()"
   ]
  },
  {
   "cell_type": "code",
   "execution_count": 11,
   "metadata": {
    "collapsed": false,
    "scrolled": true
   },
   "outputs": [
    {
     "data": {
      "text/plain": [
       "Index([u'rloc', u'departure_date_seg', u'booking_date', u'freq_flyer_flag',\n",
       "       u'creator_office_id', u'creator_iata_number', u'creator_gds_code',\n",
       "       u'creator_city_code', u'creator_lat', u'creator_lon',\n",
       "       u'creator_country_code', u'creator_continent_code',\n",
       "       u'creator_channel_code', u'booking_status_code', u'cabin_code',\n",
       "       u'booking_class_code', u'pos_office_id', u'pos_iata_number',\n",
       "       u'pos_gds_code', u'pos_city_code', u'pos_lat', u'pos_lon',\n",
       "       u'pos_country_code', u'pos_continent_code', u'pos_channel_code',\n",
       "       u'board_point_seg', u'board_lat', u'board_lon', u'board_country_code',\n",
       "       u'board_continent_code', u'off_point_seg', u'off_lat', u'off_lon',\n",
       "       u'off_country_code', u'off_continent_code', u'num_legs',\n",
       "       u'distance_seg', u'route', u'network', u'airline_code',\n",
       "       u'flight_number', u'flight_type', u'revenue_source', u'estimated_flag',\n",
       "       u'usage_board_point_seg', u'usage_off_point_seg',\n",
       "       u'usage_flight_number', u'usage_date', u'non_currency_type',\n",
       "       u'bookings_seg', u'rpk_seg', u'revenue_amount_seg', u'currency_code',\n",
       "       u'fuel_surcharge_amount_seg', u'fuel_surcharge_currency_code',\n",
       "       u'emd_count', u'emd_amount', u'emd_currency_code', u'total_outliers'],\n",
       "      dtype='object')"
      ]
     },
     "execution_count": 11,
     "metadata": {},
     "output_type": "execute_result"
    }
   ],
   "source": [
    "df.columns"
   ]
  },
  {
   "cell_type": "code",
   "execution_count": 12,
   "metadata": {
    "collapsed": true
   },
   "outputs": [],
   "source": [
    "# Vamos a buscar anomalías u outlayers en la pasta.\n",
    "# billete: base y tax (sobrecarga coste combustible)\n",
    "# Nos quedamos con unos campos solo\n",
    "    # bookings_seg\n",
    "    # fuel_surcharge_amount_seg"
   ]
  },
  {
   "cell_type": "code",
   "execution_count": 14,
   "metadata": {
    "collapsed": false
   },
   "outputs": [],
   "source": [
    "df = df[['bookings_seg', 'revenue_amount_seg', 'fuel_surcharge_amount_seg']]"
   ]
  },
  {
   "cell_type": "code",
   "execution_count": 15,
   "metadata": {
    "collapsed": false
   },
   "outputs": [
    {
     "data": {
      "text/html": [
       "<div>\n",
       "<table border=\"1\" class=\"dataframe\">\n",
       "  <thead>\n",
       "    <tr style=\"text-align: right;\">\n",
       "      <th></th>\n",
       "      <th>bookings_seg</th>\n",
       "      <th>revenue_amount_seg</th>\n",
       "      <th>fuel_surcharge_amount_seg</th>\n",
       "    </tr>\n",
       "  </thead>\n",
       "  <tbody>\n",
       "    <tr>\n",
       "      <th>0</th>\n",
       "      <td>1</td>\n",
       "      <td>33.56</td>\n",
       "      <td>7.30</td>\n",
       "    </tr>\n",
       "    <tr>\n",
       "      <th>1</th>\n",
       "      <td>5</td>\n",
       "      <td>306.00</td>\n",
       "      <td>127.50</td>\n",
       "    </tr>\n",
       "    <tr>\n",
       "      <th>2</th>\n",
       "      <td>19</td>\n",
       "      <td>1365.50</td>\n",
       "      <td>234.00</td>\n",
       "    </tr>\n",
       "    <tr>\n",
       "      <th>3</th>\n",
       "      <td>3</td>\n",
       "      <td>81.35</td>\n",
       "      <td>39.93</td>\n",
       "    </tr>\n",
       "    <tr>\n",
       "      <th>4</th>\n",
       "      <td>2</td>\n",
       "      <td>0.00</td>\n",
       "      <td>31.82</td>\n",
       "    </tr>\n",
       "  </tbody>\n",
       "</table>\n",
       "</div>"
      ],
      "text/plain": [
       "   bookings_seg  revenue_amount_seg  fuel_surcharge_amount_seg\n",
       "0             1               33.56                       7.30\n",
       "1             5              306.00                     127.50\n",
       "2            19             1365.50                     234.00\n",
       "3             3               81.35                      39.93\n",
       "4             2                0.00                      31.82"
      ]
     },
     "execution_count": 15,
     "metadata": {},
     "output_type": "execute_result"
    }
   ],
   "source": [
    "df.head()"
   ]
  },
  {
   "cell_type": "code",
   "execution_count": 16,
   "metadata": {
    "collapsed": true
   },
   "outputs": [],
   "source": [
    "# Vamos a buscar tickets raros estilo al 4"
   ]
  },
  {
   "cell_type": "code",
   "execution_count": 17,
   "metadata": {
    "collapsed": true
   },
   "outputs": [],
   "source": [
    "# Vamos a usar un kmeans Clustering.\n",
    "# Vamos a hallar la z-score en ambos ejes y al raiz cuadrada \n",
    "# de la suma de los cuadrados.\n",
    "# Seran outlayers los que tengan una z mayor que 3."
   ]
  },
  {
   "cell_type": "code",
   "execution_count": 18,
   "metadata": {
    "collapsed": false
   },
   "outputs": [
    {
     "name": "stderr",
     "output_type": "stream",
     "text": [
      "/usr/lib/python2.7/site-packages/ipykernel/__main__.py:2: SettingWithCopyWarning: \n",
      "A value is trying to be set on a copy of a slice from a DataFrame.\n",
      "Try using .loc[row_indexer,col_indexer] = value instead\n",
      "\n",
      "See the the caveats in the documentation: http://pandas.pydata.org/pandas-docs/stable/indexing.html#indexing-view-versus-copy\n",
      "  from ipykernel import kernelapp as app\n"
     ]
    }
   ],
   "source": [
    "# Hallamos: Tarifa base por reserva e ingresos por reserva.\n",
    "df['revenue'] = df['revenue_amount_seg']/df['bookings_seg']"
   ]
  },
  {
   "cell_type": "code",
   "execution_count": 19,
   "metadata": {
    "collapsed": false
   },
   "outputs": [
    {
     "data": {
      "text/html": [
       "<div>\n",
       "<table border=\"1\" class=\"dataframe\">\n",
       "  <thead>\n",
       "    <tr style=\"text-align: right;\">\n",
       "      <th></th>\n",
       "      <th>bookings_seg</th>\n",
       "      <th>revenue_amount_seg</th>\n",
       "      <th>fuel_surcharge_amount_seg</th>\n",
       "      <th>revenue</th>\n",
       "    </tr>\n",
       "  </thead>\n",
       "  <tbody>\n",
       "    <tr>\n",
       "      <th>0</th>\n",
       "      <td>1</td>\n",
       "      <td>33.56</td>\n",
       "      <td>7.30</td>\n",
       "      <td>33.560000</td>\n",
       "    </tr>\n",
       "    <tr>\n",
       "      <th>1</th>\n",
       "      <td>5</td>\n",
       "      <td>306.00</td>\n",
       "      <td>127.50</td>\n",
       "      <td>61.200000</td>\n",
       "    </tr>\n",
       "    <tr>\n",
       "      <th>2</th>\n",
       "      <td>19</td>\n",
       "      <td>1365.50</td>\n",
       "      <td>234.00</td>\n",
       "      <td>71.868421</td>\n",
       "    </tr>\n",
       "    <tr>\n",
       "      <th>3</th>\n",
       "      <td>3</td>\n",
       "      <td>81.35</td>\n",
       "      <td>39.93</td>\n",
       "      <td>27.116667</td>\n",
       "    </tr>\n",
       "    <tr>\n",
       "      <th>4</th>\n",
       "      <td>2</td>\n",
       "      <td>0.00</td>\n",
       "      <td>31.82</td>\n",
       "      <td>0.000000</td>\n",
       "    </tr>\n",
       "  </tbody>\n",
       "</table>\n",
       "</div>"
      ],
      "text/plain": [
       "   bookings_seg  revenue_amount_seg  fuel_surcharge_amount_seg    revenue\n",
       "0             1               33.56                       7.30  33.560000\n",
       "1             5              306.00                     127.50  61.200000\n",
       "2            19             1365.50                     234.00  71.868421\n",
       "3             3               81.35                      39.93  27.116667\n",
       "4             2                0.00                      31.82   0.000000"
      ]
     },
     "execution_count": 19,
     "metadata": {},
     "output_type": "execute_result"
    }
   ],
   "source": [
    "df.head()"
   ]
  },
  {
   "cell_type": "code",
   "execution_count": 20,
   "metadata": {
    "collapsed": false
   },
   "outputs": [
    {
     "name": "stderr",
     "output_type": "stream",
     "text": [
      "/usr/lib/python2.7/site-packages/ipykernel/__main__.py:2: SettingWithCopyWarning: \n",
      "A value is trying to be set on a copy of a slice from a DataFrame.\n",
      "Try using .loc[row_indexer,col_indexer] = value instead\n",
      "\n",
      "See the the caveats in the documentation: http://pandas.pydata.org/pandas-docs/stable/indexing.html#indexing-view-versus-copy\n",
      "  from ipykernel import kernelapp as app\n"
     ]
    }
   ],
   "source": [
    "# Creamos tax\n",
    "df['tax'] = df['fuel_surcharge_amount_seg']/df['bookings_seg']"
   ]
  },
  {
   "cell_type": "code",
   "execution_count": 21,
   "metadata": {
    "collapsed": false
   },
   "outputs": [
    {
     "data": {
      "text/html": [
       "<div>\n",
       "<table border=\"1\" class=\"dataframe\">\n",
       "  <thead>\n",
       "    <tr style=\"text-align: right;\">\n",
       "      <th></th>\n",
       "      <th>bookings_seg</th>\n",
       "      <th>revenue_amount_seg</th>\n",
       "      <th>fuel_surcharge_amount_seg</th>\n",
       "      <th>revenue</th>\n",
       "      <th>tax</th>\n",
       "    </tr>\n",
       "  </thead>\n",
       "  <tbody>\n",
       "    <tr>\n",
       "      <th>0</th>\n",
       "      <td>1</td>\n",
       "      <td>33.56</td>\n",
       "      <td>7.30</td>\n",
       "      <td>33.560000</td>\n",
       "      <td>7.300000</td>\n",
       "    </tr>\n",
       "    <tr>\n",
       "      <th>1</th>\n",
       "      <td>5</td>\n",
       "      <td>306.00</td>\n",
       "      <td>127.50</td>\n",
       "      <td>61.200000</td>\n",
       "      <td>25.500000</td>\n",
       "    </tr>\n",
       "    <tr>\n",
       "      <th>2</th>\n",
       "      <td>19</td>\n",
       "      <td>1365.50</td>\n",
       "      <td>234.00</td>\n",
       "      <td>71.868421</td>\n",
       "      <td>12.315789</td>\n",
       "    </tr>\n",
       "    <tr>\n",
       "      <th>3</th>\n",
       "      <td>3</td>\n",
       "      <td>81.35</td>\n",
       "      <td>39.93</td>\n",
       "      <td>27.116667</td>\n",
       "      <td>13.310000</td>\n",
       "    </tr>\n",
       "    <tr>\n",
       "      <th>4</th>\n",
       "      <td>2</td>\n",
       "      <td>0.00</td>\n",
       "      <td>31.82</td>\n",
       "      <td>0.000000</td>\n",
       "      <td>15.910000</td>\n",
       "    </tr>\n",
       "  </tbody>\n",
       "</table>\n",
       "</div>"
      ],
      "text/plain": [
       "   bookings_seg  revenue_amount_seg  fuel_surcharge_amount_seg    revenue  \\\n",
       "0             1               33.56                       7.30  33.560000   \n",
       "1             5              306.00                     127.50  61.200000   \n",
       "2            19             1365.50                     234.00  71.868421   \n",
       "3             3               81.35                      39.93  27.116667   \n",
       "4             2                0.00                      31.82   0.000000   \n",
       "\n",
       "         tax  \n",
       "0   7.300000  \n",
       "1  25.500000  \n",
       "2  12.315789  \n",
       "3  13.310000  \n",
       "4  15.910000  "
      ]
     },
     "execution_count": 21,
     "metadata": {},
     "output_type": "execute_result"
    }
   ],
   "source": [
    "df.head()"
   ]
  },
  {
   "cell_type": "code",
   "execution_count": 22,
   "metadata": {
    "collapsed": false
   },
   "outputs": [
    {
     "name": "stdout",
     "output_type": "stream",
     "text": [
      "Populating the interactive namespace from numpy and matplotlib\n"
     ]
    },
    {
     "name": "stderr",
     "output_type": "stream",
     "text": [
      "WARNING: pylab import has clobbered these variables: ['f']\n",
      "`%matplotlib` prevents importing * from pylab and numpy\n"
     ]
    }
   ],
   "source": [
    "%pylab inline"
   ]
  },
  {
   "cell_type": "code",
   "execution_count": 23,
   "metadata": {
    "collapsed": true
   },
   "outputs": [],
   "source": [
    "simple = df[['revenue', 'tax']]"
   ]
  },
  {
   "cell_type": "code",
   "execution_count": 26,
   "metadata": {
    "collapsed": false
   },
   "outputs": [
    {
     "data": {
      "image/png": "[encoded data removed]",
      "text/plain": [
       "<matplotlib.figure.Figure at 0x7f84fa9c2fd0>"
      ]
     },
     "metadata": {},
     "output_type": "display_data"
    }
   ],
   "source": [
    "plt.scatter(simple['revenue'], simple['tax'], alpha=0.1)\n",
    "plt.xlim(-50,2000)\n",
    "plt.ylim(-50,600)\n",
    "plt.show()"
   ]
  },
  {
   "cell_type": "code",
   "execution_count": 27,
   "metadata": {
    "collapsed": true
   },
   "outputs": [],
   "source": [
    "# Vamos a samplear para ver mejor datos:"
   ]
  },
  {
   "cell_type": "code",
   "execution_count": 28,
   "metadata": {
    "collapsed": true
   },
   "outputs": [],
   "source": [
    "smaller = simple.sample(10000)"
   ]
  },
  {
   "cell_type": "code",
   "execution_count": 29,
   "metadata": {
    "collapsed": false
   },
   "outputs": [
    {
     "data": {
      "image/png": "[encoded data removed]",
      "text/plain": [
       "<matplotlib.figure.Figure at 0x7f84fa8bb390>"
      ]
     },
     "metadata": {},
     "output_type": "display_data"
    }
   ],
   "source": [
    "plt.scatter(smaller['revenue'], smaller['tax'], alpha=0.1)\n",
    "plt.xlim(-50,2000)\n",
    "plt.ylim(-50,600)\n",
    "plt.show()"
   ]
  },
  {
   "cell_type": "code",
   "execution_count": 31,
   "metadata": {
    "collapsed": true
   },
   "outputs": [],
   "source": [
    "# Vemos que hay algo de estructura. Como 2 grupos.\n",
    "# Y un grupo de tarifa 0 y sólo tasas x=0."
   ]
  },
  {
   "cell_type": "code",
   "execution_count": 32,
   "metadata": {
    "collapsed": true
   },
   "outputs": [],
   "source": [
    "# Vamos a aplicar el cluster que se ve mejor que en gráficos."
   ]
  },
  {
   "cell_type": "code",
   "execution_count": 37,
   "metadata": {
    "collapsed": false
   },
   "outputs": [],
   "source": [
    "from sklearn.cluster import KMeans\n",
    "import numpy as np"
   ]
  },
  {
   "cell_type": "code",
   "execution_count": 71,
   "metadata": {
    "collapsed": false
   },
   "outputs": [],
   "source": [
    "kmeans = KMeans(n_clusters=10)"
   ]
  },
  {
   "cell_type": "code",
   "execution_count": 72,
   "metadata": {
    "collapsed": true
   },
   "outputs": [],
   "source": [
    "clusters = kmeans.fit_predict(smaller)"
   ]
  },
  {
   "cell_type": "code",
   "execution_count": 73,
   "metadata": {
    "collapsed": false
   },
   "outputs": [
    {
     "data": {
      "text/plain": [
       "array([9, 3, 3, ..., 0, 9, 0], dtype=int32)"
      ]
     },
     "execution_count": 73,
     "metadata": {},
     "output_type": "execute_result"
    }
   ],
   "source": [
    "clusters"
   ]
  },
  {
   "cell_type": "code",
   "execution_count": 74,
   "metadata": {
    "collapsed": false
   },
   "outputs": [
    {
     "data": {
      "text/plain": [
       "revenue    260.50\n",
       "tax         88.48\n",
       "cluster      0.00\n",
       "Name: 1126594, dtype: float64"
      ]
     },
     "execution_count": 74,
     "metadata": {},
     "output_type": "execute_result"
    }
   ],
   "source": [
    "smaller.iloc[0]"
   ]
  },
  {
   "cell_type": "code",
   "execution_count": 43,
   "metadata": {
    "collapsed": true
   },
   "outputs": [],
   "source": [
    "# queremos la media arit. y desv. de cada clusters para hallar zscore."
   ]
  },
  {
   "cell_type": "code",
   "execution_count": 76,
   "metadata": {
    "collapsed": false
   },
   "outputs": [
    {
     "name": "stderr",
     "output_type": "stream",
     "text": [
      "/usr/lib/python2.7/site-packages/ipykernel/__main__.py:2: SettingWithCopyWarning: \n",
      "A value is trying to be set on a copy of a slice from a DataFrame.\n",
      "Try using .loc[row_indexer,col_indexer] = value instead\n",
      "\n",
      "See the the caveats in the documentation: http://pandas.pydata.org/pandas-docs/stable/indexing.html#indexing-view-versus-copy\n",
      "  from ipykernel import kernelapp as app\n"
     ]
    }
   ],
   "source": [
    "# añadimos un campo más como cluster.\n",
    "smaller['cluster'] = clusters"
   ]
  },
  {
   "cell_type": "code",
   "execution_count": 77,
   "metadata": {
    "collapsed": false
   },
   "outputs": [
    {
     "data": {
      "text/html": [
       "<div>\n",
       "<table border=\"1\" class=\"dataframe\">\n",
       "  <thead>\n",
       "    <tr style=\"text-align: right;\">\n",
       "      <th></th>\n",
       "      <th>revenue</th>\n",
       "      <th>tax</th>\n",
       "      <th>cluster</th>\n",
       "    </tr>\n",
       "  </thead>\n",
       "  <tbody>\n",
       "    <tr>\n",
       "      <th>1126594</th>\n",
       "      <td>260.50</td>\n",
       "      <td>88.48</td>\n",
       "      <td>9</td>\n",
       "    </tr>\n",
       "    <tr>\n",
       "      <th>645931</th>\n",
       "      <td>64.00</td>\n",
       "      <td>14.63</td>\n",
       "      <td>3</td>\n",
       "    </tr>\n",
       "    <tr>\n",
       "      <th>818835</th>\n",
       "      <td>65.76</td>\n",
       "      <td>30.21</td>\n",
       "      <td>3</td>\n",
       "    </tr>\n",
       "    <tr>\n",
       "      <th>1227536</th>\n",
       "      <td>854.50</td>\n",
       "      <td>190.74</td>\n",
       "      <td>7</td>\n",
       "    </tr>\n",
       "    <tr>\n",
       "      <th>461915</th>\n",
       "      <td>58.41</td>\n",
       "      <td>7.40</td>\n",
       "      <td>3</td>\n",
       "    </tr>\n",
       "  </tbody>\n",
       "</table>\n",
       "</div>"
      ],
      "text/plain": [
       "         revenue     tax  cluster\n",
       "1126594   260.50   88.48        9\n",
       "645931     64.00   14.63        3\n",
       "818835     65.76   30.21        3\n",
       "1227536   854.50  190.74        7\n",
       "461915     58.41    7.40        3"
      ]
     },
     "execution_count": 77,
     "metadata": {},
     "output_type": "execute_result"
    }
   ],
   "source": [
    "smaller.head()"
   ]
  },
  {
   "cell_type": "code",
   "execution_count": 78,
   "metadata": {
    "collapsed": false
   },
   "outputs": [
    {
     "data": {
      "text/plain": [
       "<pandas.core.groupby.DataFrameGroupBy object at 0x7f84fa7d9b10>"
      ]
     },
     "execution_count": 78,
     "metadata": {},
     "output_type": "execute_result"
    }
   ],
   "source": [
    "smaller.groupby(['cluster'])"
   ]
  },
  {
   "cell_type": "code",
   "execution_count": 79,
   "metadata": {
    "collapsed": true
   },
   "outputs": [],
   "source": [
    "groups = smaller.groupby(['cluster'])"
   ]
  },
  {
   "cell_type": "code",
   "execution_count": 80,
   "metadata": {
    "collapsed": false
   },
   "outputs": [],
   "source": [
    "# calculamos la media...\n",
    "means = groups.mean()"
   ]
  },
  {
   "cell_type": "code",
   "execution_count": 81,
   "metadata": {
    "collapsed": true
   },
   "outputs": [],
   "source": [
    "# calculamos la desv...\n",
    "stdevs = groups.std()"
   ]
  },
  {
   "cell_type": "code",
   "execution_count": 82,
   "metadata": {
    "collapsed": false
   },
   "outputs": [
    {
     "data": {
      "text/html": [
       "<div>\n",
       "<table border=\"1\" class=\"dataframe\">\n",
       "  <thead>\n",
       "    <tr style=\"text-align: right;\">\n",
       "      <th></th>\n",
       "      <th>revenue</th>\n",
       "      <th>tax</th>\n",
       "    </tr>\n",
       "    <tr>\n",
       "      <th>cluster</th>\n",
       "      <th></th>\n",
       "      <th></th>\n",
       "    </tr>\n",
       "  </thead>\n",
       "  <tbody>\n",
       "    <tr>\n",
       "      <th>0</th>\n",
       "      <td>56.342467</td>\n",
       "      <td>42.649682</td>\n",
       "    </tr>\n",
       "    <tr>\n",
       "      <th>1</th>\n",
       "      <td>NaN</td>\n",
       "      <td>NaN</td>\n",
       "    </tr>\n",
       "    <tr>\n",
       "      <th>2</th>\n",
       "      <td>NaN</td>\n",
       "      <td>NaN</td>\n",
       "    </tr>\n",
       "    <tr>\n",
       "      <th>3</th>\n",
       "      <td>35.855136</td>\n",
       "      <td>32.415609</td>\n",
       "    </tr>\n",
       "    <tr>\n",
       "      <th>4</th>\n",
       "      <td>309.246196</td>\n",
       "      <td>82.408137</td>\n",
       "    </tr>\n",
       "    <tr>\n",
       "      <th>5</th>\n",
       "      <td>70.699443</td>\n",
       "      <td>48.007149</td>\n",
       "    </tr>\n",
       "    <tr>\n",
       "      <th>6</th>\n",
       "      <td>180.006204</td>\n",
       "      <td>50.406826</td>\n",
       "    </tr>\n",
       "    <tr>\n",
       "      <th>7</th>\n",
       "      <td>105.789268</td>\n",
       "      <td>61.161318</td>\n",
       "    </tr>\n",
       "    <tr>\n",
       "      <th>8</th>\n",
       "      <td>399.274915</td>\n",
       "      <td>229.392511</td>\n",
       "    </tr>\n",
       "    <tr>\n",
       "      <th>9</th>\n",
       "      <td>54.004817</td>\n",
       "      <td>20.081730</td>\n",
       "    </tr>\n",
       "  </tbody>\n",
       "</table>\n",
       "</div>"
      ],
      "text/plain": [
       "            revenue         tax\n",
       "cluster                        \n",
       "0         56.342467   42.649682\n",
       "1               NaN         NaN\n",
       "2               NaN         NaN\n",
       "3         35.855136   32.415609\n",
       "4        309.246196   82.408137\n",
       "5         70.699443   48.007149\n",
       "6        180.006204   50.406826\n",
       "7        105.789268   61.161318\n",
       "8        399.274915  229.392511\n",
       "9         54.004817   20.081730"
      ]
     },
     "execution_count": 82,
     "metadata": {},
     "output_type": "execute_result"
    }
   ],
   "source": [
    "stdevs"
   ]
  },
  {
   "cell_type": "code",
   "execution_count": 83,
   "metadata": {
    "collapsed": true
   },
   "outputs": [],
   "source": [
    "stdevs = stdevs.fillna(0.00001)"
   ]
  },
  {
   "cell_type": "code",
   "execution_count": 84,
   "metadata": {
    "collapsed": false
   },
   "outputs": [
    {
     "data": {
      "text/html": [
       "<div>\n",
       "<table border=\"1\" class=\"dataframe\">\n",
       "  <thead>\n",
       "    <tr style=\"text-align: right;\">\n",
       "      <th></th>\n",
       "      <th>revenue</th>\n",
       "      <th>tax</th>\n",
       "    </tr>\n",
       "    <tr>\n",
       "      <th>cluster</th>\n",
       "      <th></th>\n",
       "      <th></th>\n",
       "    </tr>\n",
       "  </thead>\n",
       "  <tbody>\n",
       "    <tr>\n",
       "      <th>0</th>\n",
       "      <td>56.342467</td>\n",
       "      <td>42.649682</td>\n",
       "    </tr>\n",
       "    <tr>\n",
       "      <th>1</th>\n",
       "      <td>0.000010</td>\n",
       "      <td>0.000010</td>\n",
       "    </tr>\n",
       "    <tr>\n",
       "      <th>2</th>\n",
       "      <td>0.000010</td>\n",
       "      <td>0.000010</td>\n",
       "    </tr>\n",
       "    <tr>\n",
       "      <th>3</th>\n",
       "      <td>35.855136</td>\n",
       "      <td>32.415609</td>\n",
       "    </tr>\n",
       "    <tr>\n",
       "      <th>4</th>\n",
       "      <td>309.246196</td>\n",
       "      <td>82.408137</td>\n",
       "    </tr>\n",
       "    <tr>\n",
       "      <th>5</th>\n",
       "      <td>70.699443</td>\n",
       "      <td>48.007149</td>\n",
       "    </tr>\n",
       "    <tr>\n",
       "      <th>6</th>\n",
       "      <td>180.006204</td>\n",
       "      <td>50.406826</td>\n",
       "    </tr>\n",
       "    <tr>\n",
       "      <th>7</th>\n",
       "      <td>105.789268</td>\n",
       "      <td>61.161318</td>\n",
       "    </tr>\n",
       "    <tr>\n",
       "      <th>8</th>\n",
       "      <td>399.274915</td>\n",
       "      <td>229.392511</td>\n",
       "    </tr>\n",
       "    <tr>\n",
       "      <th>9</th>\n",
       "      <td>54.004817</td>\n",
       "      <td>20.081730</td>\n",
       "    </tr>\n",
       "  </tbody>\n",
       "</table>\n",
       "</div>"
      ],
      "text/plain": [
       "            revenue         tax\n",
       "cluster                        \n",
       "0         56.342467   42.649682\n",
       "1          0.000010    0.000010\n",
       "2          0.000010    0.000010\n",
       "3         35.855136   32.415609\n",
       "4        309.246196   82.408137\n",
       "5         70.699443   48.007149\n",
       "6        180.006204   50.406826\n",
       "7        105.789268   61.161318\n",
       "8        399.274915  229.392511\n",
       "9         54.004817   20.081730"
      ]
     },
     "execution_count": 84,
     "metadata": {},
     "output_type": "execute_result"
    }
   ],
   "source": [
    "stdevs"
   ]
  },
  {
   "cell_type": "code",
   "execution_count": 85,
   "metadata": {
    "collapsed": true
   },
   "outputs": [],
   "source": [
    "# renombramos las columnas.\n",
    "means.columns = means.columns.map(lambda s: s + \"_mean\")"
   ]
  },
  {
   "cell_type": "code",
   "execution_count": 86,
   "metadata": {
    "collapsed": false
   },
   "outputs": [
    {
     "data": {
      "text/html": [
       "<div>\n",
       "<table border=\"1\" class=\"dataframe\">\n",
       "  <thead>\n",
       "    <tr style=\"text-align: right;\">\n",
       "      <th></th>\n",
       "      <th>revenue_mean</th>\n",
       "      <th>tax_mean</th>\n",
       "    </tr>\n",
       "    <tr>\n",
       "      <th>cluster</th>\n",
       "      <th></th>\n",
       "      <th></th>\n",
       "    </tr>\n",
       "  </thead>\n",
       "  <tbody>\n",
       "    <tr>\n",
       "      <th>0</th>\n",
       "      <td>207.959563</td>\n",
       "      <td>189.201776</td>\n",
       "    </tr>\n",
       "    <tr>\n",
       "      <th>1</th>\n",
       "      <td>78265.245000</td>\n",
       "      <td>60.030000</td>\n",
       "    </tr>\n",
       "    <tr>\n",
       "      <th>2</th>\n",
       "      <td>17506.380000</td>\n",
       "      <td>35.310000</td>\n",
       "    </tr>\n",
       "    <tr>\n",
       "      <th>3</th>\n",
       "      <td>59.546340</td>\n",
       "      <td>27.686777</td>\n",
       "    </tr>\n",
       "    <tr>\n",
       "      <th>4</th>\n",
       "      <td>2011.248406</td>\n",
       "      <td>220.475000</td>\n",
       "    </tr>\n",
       "    <tr>\n",
       "      <th>5</th>\n",
       "      <td>431.637284</td>\n",
       "      <td>184.890517</td>\n",
       "    </tr>\n",
       "    <tr>\n",
       "      <th>6</th>\n",
       "      <td>1267.344158</td>\n",
       "      <td>216.324130</td>\n",
       "    </tr>\n",
       "    <tr>\n",
       "      <th>7</th>\n",
       "      <td>731.490152</td>\n",
       "      <td>209.749044</td>\n",
       "    </tr>\n",
       "    <tr>\n",
       "      <th>8</th>\n",
       "      <td>4302.220000</td>\n",
       "      <td>195.615000</td>\n",
       "    </tr>\n",
       "    <tr>\n",
       "      <th>9</th>\n",
       "      <td>210.510237</td>\n",
       "      <td>42.857508</td>\n",
       "    </tr>\n",
       "  </tbody>\n",
       "</table>\n",
       "</div>"
      ],
      "text/plain": [
       "         revenue_mean    tax_mean\n",
       "cluster                          \n",
       "0          207.959563  189.201776\n",
       "1        78265.245000   60.030000\n",
       "2        17506.380000   35.310000\n",
       "3           59.546340   27.686777\n",
       "4         2011.248406  220.475000\n",
       "5          431.637284  184.890517\n",
       "6         1267.344158  216.324130\n",
       "7          731.490152  209.749044\n",
       "8         4302.220000  195.615000\n",
       "9          210.510237   42.857508"
      ]
     },
     "execution_count": 86,
     "metadata": {},
     "output_type": "execute_result"
    }
   ],
   "source": [
    "means"
   ]
  },
  {
   "cell_type": "code",
   "execution_count": 87,
   "metadata": {
    "collapsed": true
   },
   "outputs": [],
   "source": [
    "stdevs.columns = stdevs.columns.map(lambda s: s + \"_stdev\")"
   ]
  },
  {
   "cell_type": "code",
   "execution_count": 88,
   "metadata": {
    "collapsed": false
   },
   "outputs": [
    {
     "data": {
      "text/html": [
       "<div>\n",
       "<table border=\"1\" class=\"dataframe\">\n",
       "  <thead>\n",
       "    <tr style=\"text-align: right;\">\n",
       "      <th></th>\n",
       "      <th>revenue_stdev</th>\n",
       "      <th>tax_stdev</th>\n",
       "    </tr>\n",
       "    <tr>\n",
       "      <th>cluster</th>\n",
       "      <th></th>\n",
       "      <th></th>\n",
       "    </tr>\n",
       "  </thead>\n",
       "  <tbody>\n",
       "    <tr>\n",
       "      <th>0</th>\n",
       "      <td>56.342467</td>\n",
       "      <td>42.649682</td>\n",
       "    </tr>\n",
       "    <tr>\n",
       "      <th>1</th>\n",
       "      <td>0.000010</td>\n",
       "      <td>0.000010</td>\n",
       "    </tr>\n",
       "    <tr>\n",
       "      <th>2</th>\n",
       "      <td>0.000010</td>\n",
       "      <td>0.000010</td>\n",
       "    </tr>\n",
       "    <tr>\n",
       "      <th>3</th>\n",
       "      <td>35.855136</td>\n",
       "      <td>32.415609</td>\n",
       "    </tr>\n",
       "    <tr>\n",
       "      <th>4</th>\n",
       "      <td>309.246196</td>\n",
       "      <td>82.408137</td>\n",
       "    </tr>\n",
       "    <tr>\n",
       "      <th>5</th>\n",
       "      <td>70.699443</td>\n",
       "      <td>48.007149</td>\n",
       "    </tr>\n",
       "    <tr>\n",
       "      <th>6</th>\n",
       "      <td>180.006204</td>\n",
       "      <td>50.406826</td>\n",
       "    </tr>\n",
       "    <tr>\n",
       "      <th>7</th>\n",
       "      <td>105.789268</td>\n",
       "      <td>61.161318</td>\n",
       "    </tr>\n",
       "    <tr>\n",
       "      <th>8</th>\n",
       "      <td>399.274915</td>\n",
       "      <td>229.392511</td>\n",
       "    </tr>\n",
       "    <tr>\n",
       "      <th>9</th>\n",
       "      <td>54.004817</td>\n",
       "      <td>20.081730</td>\n",
       "    </tr>\n",
       "  </tbody>\n",
       "</table>\n",
       "</div>"
      ],
      "text/plain": [
       "         revenue_stdev   tax_stdev\n",
       "cluster                           \n",
       "0            56.342467   42.649682\n",
       "1             0.000010    0.000010\n",
       "2             0.000010    0.000010\n",
       "3            35.855136   32.415609\n",
       "4           309.246196   82.408137\n",
       "5            70.699443   48.007149\n",
       "6           180.006204   50.406826\n",
       "7           105.789268   61.161318\n",
       "8           399.274915  229.392511\n",
       "9            54.004817   20.081730"
      ]
     },
     "execution_count": 88,
     "metadata": {},
     "output_type": "execute_result"
    }
   ],
   "source": [
    "stdevs"
   ]
  },
  {
   "cell_type": "code",
   "execution_count": 89,
   "metadata": {
    "collapsed": true
   },
   "outputs": [],
   "source": [
    "cluster_stats = pd.merge(means, stdevs, left_index = True, right_index=True)"
   ]
  },
  {
   "cell_type": "code",
   "execution_count": 90,
   "metadata": {
    "collapsed": true
   },
   "outputs": [],
   "source": [
    "cluster_stats = cluster_stats.fillna(0.00001)"
   ]
  },
  {
   "cell_type": "code",
   "execution_count": 91,
   "metadata": {
    "collapsed": false
   },
   "outputs": [
    {
     "data": {
      "text/html": [
       "<div>\n",
       "<table border=\"1\" class=\"dataframe\">\n",
       "  <thead>\n",
       "    <tr style=\"text-align: right;\">\n",
       "      <th></th>\n",
       "      <th>revenue_mean</th>\n",
       "      <th>tax_mean</th>\n",
       "      <th>revenue_stdev</th>\n",
       "      <th>tax_stdev</th>\n",
       "    </tr>\n",
       "    <tr>\n",
       "      <th>cluster</th>\n",
       "      <th></th>\n",
       "      <th></th>\n",
       "      <th></th>\n",
       "      <th></th>\n",
       "    </tr>\n",
       "  </thead>\n",
       "  <tbody>\n",
       "    <tr>\n",
       "      <th>0</th>\n",
       "      <td>207.959563</td>\n",
       "      <td>189.201776</td>\n",
       "      <td>56.342467</td>\n",
       "      <td>42.649682</td>\n",
       "    </tr>\n",
       "    <tr>\n",
       "      <th>1</th>\n",
       "      <td>78265.245000</td>\n",
       "      <td>60.030000</td>\n",
       "      <td>0.000010</td>\n",
       "      <td>0.000010</td>\n",
       "    </tr>\n",
       "    <tr>\n",
       "      <th>2</th>\n",
       "      <td>17506.380000</td>\n",
       "      <td>35.310000</td>\n",
       "      <td>0.000010</td>\n",
       "      <td>0.000010</td>\n",
       "    </tr>\n",
       "    <tr>\n",
       "      <th>3</th>\n",
       "      <td>59.546340</td>\n",
       "      <td>27.686777</td>\n",
       "      <td>35.855136</td>\n",
       "      <td>32.415609</td>\n",
       "    </tr>\n",
       "    <tr>\n",
       "      <th>4</th>\n",
       "      <td>2011.248406</td>\n",
       "      <td>220.475000</td>\n",
       "      <td>309.246196</td>\n",
       "      <td>82.408137</td>\n",
       "    </tr>\n",
       "    <tr>\n",
       "      <th>5</th>\n",
       "      <td>431.637284</td>\n",
       "      <td>184.890517</td>\n",
       "      <td>70.699443</td>\n",
       "      <td>48.007149</td>\n",
       "    </tr>\n",
       "    <tr>\n",
       "      <th>6</th>\n",
       "      <td>1267.344158</td>\n",
       "      <td>216.324130</td>\n",
       "      <td>180.006204</td>\n",
       "      <td>50.406826</td>\n",
       "    </tr>\n",
       "    <tr>\n",
       "      <th>7</th>\n",
       "      <td>731.490152</td>\n",
       "      <td>209.749044</td>\n",
       "      <td>105.789268</td>\n",
       "      <td>61.161318</td>\n",
       "    </tr>\n",
       "    <tr>\n",
       "      <th>8</th>\n",
       "      <td>4302.220000</td>\n",
       "      <td>195.615000</td>\n",
       "      <td>399.274915</td>\n",
       "      <td>229.392511</td>\n",
       "    </tr>\n",
       "    <tr>\n",
       "      <th>9</th>\n",
       "      <td>210.510237</td>\n",
       "      <td>42.857508</td>\n",
       "      <td>54.004817</td>\n",
       "      <td>20.081730</td>\n",
       "    </tr>\n",
       "  </tbody>\n",
       "</table>\n",
       "</div>"
      ],
      "text/plain": [
       "         revenue_mean    tax_mean  revenue_stdev   tax_stdev\n",
       "cluster                                                     \n",
       "0          207.959563  189.201776      56.342467   42.649682\n",
       "1        78265.245000   60.030000       0.000010    0.000010\n",
       "2        17506.380000   35.310000       0.000010    0.000010\n",
       "3           59.546340   27.686777      35.855136   32.415609\n",
       "4         2011.248406  220.475000     309.246196   82.408137\n",
       "5          431.637284  184.890517      70.699443   48.007149\n",
       "6         1267.344158  216.324130     180.006204   50.406826\n",
       "7          731.490152  209.749044     105.789268   61.161318\n",
       "8         4302.220000  195.615000     399.274915  229.392511\n",
       "9          210.510237   42.857508      54.004817   20.081730"
      ]
     },
     "execution_count": 91,
     "metadata": {},
     "output_type": "execute_result"
    }
   ],
   "source": [
    "cluster_stats"
   ]
  },
  {
   "cell_type": "code",
   "execution_count": 92,
   "metadata": {
    "collapsed": true
   },
   "outputs": [],
   "source": [
    "cluster_stats = cluster_stats.reset_index()"
   ]
  },
  {
   "cell_type": "code",
   "execution_count": 95,
   "metadata": {
    "collapsed": false
   },
   "outputs": [
    {
     "data": {
      "text/html": [
       "<div>\n",
       "<table border=\"1\" class=\"dataframe\">\n",
       "  <thead>\n",
       "    <tr style=\"text-align: right;\">\n",
       "      <th></th>\n",
       "      <th>cluster</th>\n",
       "      <th>revenue_mean</th>\n",
       "      <th>tax_mean</th>\n",
       "      <th>revenue_stdev</th>\n",
       "      <th>tax_stdev</th>\n",
       "    </tr>\n",
       "  </thead>\n",
       "  <tbody>\n",
       "    <tr>\n",
       "      <th>0</th>\n",
       "      <td>0</td>\n",
       "      <td>207.959563</td>\n",
       "      <td>189.201776</td>\n",
       "      <td>56.342467</td>\n",
       "      <td>42.649682</td>\n",
       "    </tr>\n",
       "    <tr>\n",
       "      <th>1</th>\n",
       "      <td>1</td>\n",
       "      <td>78265.245000</td>\n",
       "      <td>60.030000</td>\n",
       "      <td>0.000010</td>\n",
       "      <td>0.000010</td>\n",
       "    </tr>\n",
       "    <tr>\n",
       "      <th>2</th>\n",
       "      <td>2</td>\n",
       "      <td>17506.380000</td>\n",
       "      <td>35.310000</td>\n",
       "      <td>0.000010</td>\n",
       "      <td>0.000010</td>\n",
       "    </tr>\n",
       "    <tr>\n",
       "      <th>3</th>\n",
       "      <td>3</td>\n",
       "      <td>59.546340</td>\n",
       "      <td>27.686777</td>\n",
       "      <td>35.855136</td>\n",
       "      <td>32.415609</td>\n",
       "    </tr>\n",
       "    <tr>\n",
       "      <th>4</th>\n",
       "      <td>4</td>\n",
       "      <td>2011.248406</td>\n",
       "      <td>220.475000</td>\n",
       "      <td>309.246196</td>\n",
       "      <td>82.408137</td>\n",
       "    </tr>\n",
       "    <tr>\n",
       "      <th>5</th>\n",
       "      <td>5</td>\n",
       "      <td>431.637284</td>\n",
       "      <td>184.890517</td>\n",
       "      <td>70.699443</td>\n",
       "      <td>48.007149</td>\n",
       "    </tr>\n",
       "    <tr>\n",
       "      <th>6</th>\n",
       "      <td>6</td>\n",
       "      <td>1267.344158</td>\n",
       "      <td>216.324130</td>\n",
       "      <td>180.006204</td>\n",
       "      <td>50.406826</td>\n",
       "    </tr>\n",
       "    <tr>\n",
       "      <th>7</th>\n",
       "      <td>7</td>\n",
       "      <td>731.490152</td>\n",
       "      <td>209.749044</td>\n",
       "      <td>105.789268</td>\n",
       "      <td>61.161318</td>\n",
       "    </tr>\n",
       "    <tr>\n",
       "      <th>8</th>\n",
       "      <td>8</td>\n",
       "      <td>4302.220000</td>\n",
       "      <td>195.615000</td>\n",
       "      <td>399.274915</td>\n",
       "      <td>229.392511</td>\n",
       "    </tr>\n",
       "    <tr>\n",
       "      <th>9</th>\n",
       "      <td>9</td>\n",
       "      <td>210.510237</td>\n",
       "      <td>42.857508</td>\n",
       "      <td>54.004817</td>\n",
       "      <td>20.081730</td>\n",
       "    </tr>\n",
       "  </tbody>\n",
       "</table>\n",
       "</div>"
      ],
      "text/plain": [
       "   cluster  revenue_mean    tax_mean  revenue_stdev   tax_stdev\n",
       "0        0    207.959563  189.201776      56.342467   42.649682\n",
       "1        1  78265.245000   60.030000       0.000010    0.000010\n",
       "2        2  17506.380000   35.310000       0.000010    0.000010\n",
       "3        3     59.546340   27.686777      35.855136   32.415609\n",
       "4        4   2011.248406  220.475000     309.246196   82.408137\n",
       "5        5    431.637284  184.890517      70.699443   48.007149\n",
       "6        6   1267.344158  216.324130     180.006204   50.406826\n",
       "7        7    731.490152  209.749044     105.789268   61.161318\n",
       "8        8   4302.220000  195.615000     399.274915  229.392511\n",
       "9        9    210.510237   42.857508      54.004817   20.081730"
      ]
     },
     "execution_count": 95,
     "metadata": {},
     "output_type": "execute_result"
    }
   ],
   "source": [
    "# reset index antes estaba cluster como rownames y lo que hace reset es crear un rowname y cluster para a ser col.\n",
    "cluster_stats"
   ]
  },
  {
   "cell_type": "code",
   "execution_count": null,
   "metadata": {
    "collapsed": true
   },
   "outputs": [],
   "source": []
  },
  {
   "cell_type": "code",
   "execution_count": 93,
   "metadata": {
    "collapsed": true
   },
   "outputs": [],
   "source": [
    "merged = pd.merge(smaller, cluster_stats, left_on='cluster', right_on='cluster')"
   ]
  },
  {
   "cell_type": "code",
   "execution_count": 94,
   "metadata": {
    "collapsed": false
   },
   "outputs": [
    {
     "data": {
      "text/html": [
       "<div>\n",
       "<table border=\"1\" class=\"dataframe\">\n",
       "  <thead>\n",
       "    <tr style=\"text-align: right;\">\n",
       "      <th></th>\n",
       "      <th>revenue</th>\n",
       "      <th>tax</th>\n",
       "      <th>cluster</th>\n",
       "      <th>revenue_mean</th>\n",
       "      <th>tax_mean</th>\n",
       "      <th>revenue_stdev</th>\n",
       "      <th>tax_stdev</th>\n",
       "    </tr>\n",
       "  </thead>\n",
       "  <tbody>\n",
       "    <tr>\n",
       "      <th>0</th>\n",
       "      <td>260.500000</td>\n",
       "      <td>88.480000</td>\n",
       "      <td>9</td>\n",
       "      <td>210.510237</td>\n",
       "      <td>42.857508</td>\n",
       "      <td>54.004817</td>\n",
       "      <td>20.081730</td>\n",
       "    </tr>\n",
       "    <tr>\n",
       "      <th>1</th>\n",
       "      <td>172.560000</td>\n",
       "      <td>29.350000</td>\n",
       "      <td>9</td>\n",
       "      <td>210.510237</td>\n",
       "      <td>42.857508</td>\n",
       "      <td>54.004817</td>\n",
       "      <td>20.081730</td>\n",
       "    </tr>\n",
       "    <tr>\n",
       "      <th>2</th>\n",
       "      <td>157.500000</td>\n",
       "      <td>43.930000</td>\n",
       "      <td>9</td>\n",
       "      <td>210.510237</td>\n",
       "      <td>42.857508</td>\n",
       "      <td>54.004817</td>\n",
       "      <td>20.081730</td>\n",
       "    </tr>\n",
       "    <tr>\n",
       "      <th>3</th>\n",
       "      <td>309.990000</td>\n",
       "      <td>43.540000</td>\n",
       "      <td>9</td>\n",
       "      <td>210.510237</td>\n",
       "      <td>42.857508</td>\n",
       "      <td>54.004817</td>\n",
       "      <td>20.081730</td>\n",
       "    </tr>\n",
       "    <tr>\n",
       "      <th>4</th>\n",
       "      <td>280.672500</td>\n",
       "      <td>52.700000</td>\n",
       "      <td>9</td>\n",
       "      <td>210.510237</td>\n",
       "      <td>42.857508</td>\n",
       "      <td>54.004817</td>\n",
       "      <td>20.081730</td>\n",
       "    </tr>\n",
       "    <tr>\n",
       "      <th>5</th>\n",
       "      <td>148.900000</td>\n",
       "      <td>31.510000</td>\n",
       "      <td>9</td>\n",
       "      <td>210.510237</td>\n",
       "      <td>42.857508</td>\n",
       "      <td>54.004817</td>\n",
       "      <td>20.081730</td>\n",
       "    </tr>\n",
       "    <tr>\n",
       "      <th>6</th>\n",
       "      <td>143.420000</td>\n",
       "      <td>29.940000</td>\n",
       "      <td>9</td>\n",
       "      <td>210.510237</td>\n",
       "      <td>42.857508</td>\n",
       "      <td>54.004817</td>\n",
       "      <td>20.081730</td>\n",
       "    </tr>\n",
       "    <tr>\n",
       "      <th>7</th>\n",
       "      <td>261.000000</td>\n",
       "      <td>64.000000</td>\n",
       "      <td>9</td>\n",
       "      <td>210.510237</td>\n",
       "      <td>42.857508</td>\n",
       "      <td>54.004817</td>\n",
       "      <td>20.081730</td>\n",
       "    </tr>\n",
       "    <tr>\n",
       "      <th>8</th>\n",
       "      <td>235.930000</td>\n",
       "      <td>24.185000</td>\n",
       "      <td>9</td>\n",
       "      <td>210.510237</td>\n",
       "      <td>42.857508</td>\n",
       "      <td>54.004817</td>\n",
       "      <td>20.081730</td>\n",
       "    </tr>\n",
       "    <tr>\n",
       "      <th>9</th>\n",
       "      <td>138.500000</td>\n",
       "      <td>26.870000</td>\n",
       "      <td>9</td>\n",
       "      <td>210.510237</td>\n",
       "      <td>42.857508</td>\n",
       "      <td>54.004817</td>\n",
       "      <td>20.081730</td>\n",
       "    </tr>\n",
       "    <tr>\n",
       "      <th>10</th>\n",
       "      <td>167.500000</td>\n",
       "      <td>28.900000</td>\n",
       "      <td>9</td>\n",
       "      <td>210.510237</td>\n",
       "      <td>42.857508</td>\n",
       "      <td>54.004817</td>\n",
       "      <td>20.081730</td>\n",
       "    </tr>\n",
       "    <tr>\n",
       "      <th>11</th>\n",
       "      <td>243.990000</td>\n",
       "      <td>36.270000</td>\n",
       "      <td>9</td>\n",
       "      <td>210.510237</td>\n",
       "      <td>42.857508</td>\n",
       "      <td>54.004817</td>\n",
       "      <td>20.081730</td>\n",
       "    </tr>\n",
       "    <tr>\n",
       "      <th>12</th>\n",
       "      <td>243.990000</td>\n",
       "      <td>40.690000</td>\n",
       "      <td>9</td>\n",
       "      <td>210.510237</td>\n",
       "      <td>42.857508</td>\n",
       "      <td>54.004817</td>\n",
       "      <td>20.081730</td>\n",
       "    </tr>\n",
       "    <tr>\n",
       "      <th>13</th>\n",
       "      <td>340.500000</td>\n",
       "      <td>32.000000</td>\n",
       "      <td>9</td>\n",
       "      <td>210.510237</td>\n",
       "      <td>42.857508</td>\n",
       "      <td>54.004817</td>\n",
       "      <td>20.081730</td>\n",
       "    </tr>\n",
       "    <tr>\n",
       "      <th>14</th>\n",
       "      <td>157.630000</td>\n",
       "      <td>44.200000</td>\n",
       "      <td>9</td>\n",
       "      <td>210.510237</td>\n",
       "      <td>42.857508</td>\n",
       "      <td>54.004817</td>\n",
       "      <td>20.081730</td>\n",
       "    </tr>\n",
       "    <tr>\n",
       "      <th>15</th>\n",
       "      <td>154.990000</td>\n",
       "      <td>41.060000</td>\n",
       "      <td>9</td>\n",
       "      <td>210.510237</td>\n",
       "      <td>42.857508</td>\n",
       "      <td>54.004817</td>\n",
       "      <td>20.081730</td>\n",
       "    </tr>\n",
       "    <tr>\n",
       "      <th>16</th>\n",
       "      <td>181.870000</td>\n",
       "      <td>23.530000</td>\n",
       "      <td>9</td>\n",
       "      <td>210.510237</td>\n",
       "      <td>42.857508</td>\n",
       "      <td>54.004817</td>\n",
       "      <td>20.081730</td>\n",
       "    </tr>\n",
       "    <tr>\n",
       "      <th>17</th>\n",
       "      <td>143.450000</td>\n",
       "      <td>30.150000</td>\n",
       "      <td>9</td>\n",
       "      <td>210.510237</td>\n",
       "      <td>42.857508</td>\n",
       "      <td>54.004817</td>\n",
       "      <td>20.081730</td>\n",
       "    </tr>\n",
       "    <tr>\n",
       "      <th>18</th>\n",
       "      <td>159.165000</td>\n",
       "      <td>11.830000</td>\n",
       "      <td>9</td>\n",
       "      <td>210.510237</td>\n",
       "      <td>42.857508</td>\n",
       "      <td>54.004817</td>\n",
       "      <td>20.081730</td>\n",
       "    </tr>\n",
       "    <tr>\n",
       "      <th>19</th>\n",
       "      <td>146.970000</td>\n",
       "      <td>67.470000</td>\n",
       "      <td>9</td>\n",
       "      <td>210.510237</td>\n",
       "      <td>42.857508</td>\n",
       "      <td>54.004817</td>\n",
       "      <td>20.081730</td>\n",
       "    </tr>\n",
       "    <tr>\n",
       "      <th>20</th>\n",
       "      <td>237.990000</td>\n",
       "      <td>70.110000</td>\n",
       "      <td>9</td>\n",
       "      <td>210.510237</td>\n",
       "      <td>42.857508</td>\n",
       "      <td>54.004817</td>\n",
       "      <td>20.081730</td>\n",
       "    </tr>\n",
       "    <tr>\n",
       "      <th>21</th>\n",
       "      <td>164.870000</td>\n",
       "      <td>23.520000</td>\n",
       "      <td>9</td>\n",
       "      <td>210.510237</td>\n",
       "      <td>42.857508</td>\n",
       "      <td>54.004817</td>\n",
       "      <td>20.081730</td>\n",
       "    </tr>\n",
       "    <tr>\n",
       "      <th>22</th>\n",
       "      <td>219.280000</td>\n",
       "      <td>33.860000</td>\n",
       "      <td>9</td>\n",
       "      <td>210.510237</td>\n",
       "      <td>42.857508</td>\n",
       "      <td>54.004817</td>\n",
       "      <td>20.081730</td>\n",
       "    </tr>\n",
       "    <tr>\n",
       "      <th>23</th>\n",
       "      <td>148.820000</td>\n",
       "      <td>30.350000</td>\n",
       "      <td>9</td>\n",
       "      <td>210.510237</td>\n",
       "      <td>42.857508</td>\n",
       "      <td>54.004817</td>\n",
       "      <td>20.081730</td>\n",
       "    </tr>\n",
       "    <tr>\n",
       "      <th>24</th>\n",
       "      <td>289.000000</td>\n",
       "      <td>34.730000</td>\n",
       "      <td>9</td>\n",
       "      <td>210.510237</td>\n",
       "      <td>42.857508</td>\n",
       "      <td>54.004817</td>\n",
       "      <td>20.081730</td>\n",
       "    </tr>\n",
       "    <tr>\n",
       "      <th>25</th>\n",
       "      <td>260.500000</td>\n",
       "      <td>53.270000</td>\n",
       "      <td>9</td>\n",
       "      <td>210.510237</td>\n",
       "      <td>42.857508</td>\n",
       "      <td>54.004817</td>\n",
       "      <td>20.081730</td>\n",
       "    </tr>\n",
       "    <tr>\n",
       "      <th>26</th>\n",
       "      <td>189.786667</td>\n",
       "      <td>46.466667</td>\n",
       "      <td>9</td>\n",
       "      <td>210.510237</td>\n",
       "      <td>42.857508</td>\n",
       "      <td>54.004817</td>\n",
       "      <td>20.081730</td>\n",
       "    </tr>\n",
       "    <tr>\n",
       "      <th>27</th>\n",
       "      <td>161.575000</td>\n",
       "      <td>95.780000</td>\n",
       "      <td>9</td>\n",
       "      <td>210.510237</td>\n",
       "      <td>42.857508</td>\n",
       "      <td>54.004817</td>\n",
       "      <td>20.081730</td>\n",
       "    </tr>\n",
       "    <tr>\n",
       "      <th>28</th>\n",
       "      <td>313.580000</td>\n",
       "      <td>57.800000</td>\n",
       "      <td>9</td>\n",
       "      <td>210.510237</td>\n",
       "      <td>42.857508</td>\n",
       "      <td>54.004817</td>\n",
       "      <td>20.081730</td>\n",
       "    </tr>\n",
       "    <tr>\n",
       "      <th>29</th>\n",
       "      <td>152.820000</td>\n",
       "      <td>35.380000</td>\n",
       "      <td>9</td>\n",
       "      <td>210.510237</td>\n",
       "      <td>42.857508</td>\n",
       "      <td>54.004817</td>\n",
       "      <td>20.081730</td>\n",
       "    </tr>\n",
       "    <tr>\n",
       "      <th>...</th>\n",
       "      <td>...</td>\n",
       "      <td>...</td>\n",
       "      <td>...</td>\n",
       "      <td>...</td>\n",
       "      <td>...</td>\n",
       "      <td>...</td>\n",
       "      <td>...</td>\n",
       "    </tr>\n",
       "    <tr>\n",
       "      <th>9970</th>\n",
       "      <td>1509.290000</td>\n",
       "      <td>190.170000</td>\n",
       "      <td>6</td>\n",
       "      <td>1267.344158</td>\n",
       "      <td>216.324130</td>\n",
       "      <td>180.006204</td>\n",
       "      <td>50.406826</td>\n",
       "    </tr>\n",
       "    <tr>\n",
       "      <th>9971</th>\n",
       "      <td>1356.000000</td>\n",
       "      <td>266.410000</td>\n",
       "      <td>6</td>\n",
       "      <td>1267.344158</td>\n",
       "      <td>216.324130</td>\n",
       "      <td>180.006204</td>\n",
       "      <td>50.406826</td>\n",
       "    </tr>\n",
       "    <tr>\n",
       "      <th>9972</th>\n",
       "      <td>1381.130000</td>\n",
       "      <td>292.840000</td>\n",
       "      <td>6</td>\n",
       "      <td>1267.344158</td>\n",
       "      <td>216.324130</td>\n",
       "      <td>180.006204</td>\n",
       "      <td>50.406826</td>\n",
       "    </tr>\n",
       "    <tr>\n",
       "      <th>9973</th>\n",
       "      <td>1283.950000</td>\n",
       "      <td>263.780000</td>\n",
       "      <td>6</td>\n",
       "      <td>1267.344158</td>\n",
       "      <td>216.324130</td>\n",
       "      <td>180.006204</td>\n",
       "      <td>50.406826</td>\n",
       "    </tr>\n",
       "    <tr>\n",
       "      <th>9974</th>\n",
       "      <td>1077.990000</td>\n",
       "      <td>137.930000</td>\n",
       "      <td>6</td>\n",
       "      <td>1267.344158</td>\n",
       "      <td>216.324130</td>\n",
       "      <td>180.006204</td>\n",
       "      <td>50.406826</td>\n",
       "    </tr>\n",
       "    <tr>\n",
       "      <th>9975</th>\n",
       "      <td>1114.000000</td>\n",
       "      <td>259.490000</td>\n",
       "      <td>6</td>\n",
       "      <td>1267.344158</td>\n",
       "      <td>216.324130</td>\n",
       "      <td>180.006204</td>\n",
       "      <td>50.406826</td>\n",
       "    </tr>\n",
       "    <tr>\n",
       "      <th>9976</th>\n",
       "      <td>1457.500000</td>\n",
       "      <td>166.720000</td>\n",
       "      <td>6</td>\n",
       "      <td>1267.344158</td>\n",
       "      <td>216.324130</td>\n",
       "      <td>180.006204</td>\n",
       "      <td>50.406826</td>\n",
       "    </tr>\n",
       "    <tr>\n",
       "      <th>9977</th>\n",
       "      <td>1079.220000</td>\n",
       "      <td>196.070000</td>\n",
       "      <td>6</td>\n",
       "      <td>1267.344158</td>\n",
       "      <td>216.324130</td>\n",
       "      <td>180.006204</td>\n",
       "      <td>50.406826</td>\n",
       "    </tr>\n",
       "    <tr>\n",
       "      <th>9978</th>\n",
       "      <td>1220.620000</td>\n",
       "      <td>246.990000</td>\n",
       "      <td>6</td>\n",
       "      <td>1267.344158</td>\n",
       "      <td>216.324130</td>\n",
       "      <td>180.006204</td>\n",
       "      <td>50.406826</td>\n",
       "    </tr>\n",
       "    <tr>\n",
       "      <th>9979</th>\n",
       "      <td>1013.700000</td>\n",
       "      <td>244.780000</td>\n",
       "      <td>6</td>\n",
       "      <td>1267.344158</td>\n",
       "      <td>216.324130</td>\n",
       "      <td>180.006204</td>\n",
       "      <td>50.406826</td>\n",
       "    </tr>\n",
       "    <tr>\n",
       "      <th>9980</th>\n",
       "      <td>1302.490000</td>\n",
       "      <td>218.190000</td>\n",
       "      <td>6</td>\n",
       "      <td>1267.344158</td>\n",
       "      <td>216.324130</td>\n",
       "      <td>180.006204</td>\n",
       "      <td>50.406826</td>\n",
       "    </tr>\n",
       "    <tr>\n",
       "      <th>9981</th>\n",
       "      <td>1181.500000</td>\n",
       "      <td>199.090000</td>\n",
       "      <td>6</td>\n",
       "      <td>1267.344158</td>\n",
       "      <td>216.324130</td>\n",
       "      <td>180.006204</td>\n",
       "      <td>50.406826</td>\n",
       "    </tr>\n",
       "    <tr>\n",
       "      <th>9982</th>\n",
       "      <td>1534.630000</td>\n",
       "      <td>198.710000</td>\n",
       "      <td>6</td>\n",
       "      <td>1267.344158</td>\n",
       "      <td>216.324130</td>\n",
       "      <td>180.006204</td>\n",
       "      <td>50.406826</td>\n",
       "    </tr>\n",
       "    <tr>\n",
       "      <th>9983</th>\n",
       "      <td>1034.000000</td>\n",
       "      <td>164.060000</td>\n",
       "      <td>6</td>\n",
       "      <td>1267.344158</td>\n",
       "      <td>216.324130</td>\n",
       "      <td>180.006204</td>\n",
       "      <td>50.406826</td>\n",
       "    </tr>\n",
       "    <tr>\n",
       "      <th>9984</th>\n",
       "      <td>1303.500000</td>\n",
       "      <td>207.370000</td>\n",
       "      <td>6</td>\n",
       "      <td>1267.344158</td>\n",
       "      <td>216.324130</td>\n",
       "      <td>180.006204</td>\n",
       "      <td>50.406826</td>\n",
       "    </tr>\n",
       "    <tr>\n",
       "      <th>9985</th>\n",
       "      <td>1133.000000</td>\n",
       "      <td>340.000000</td>\n",
       "      <td>6</td>\n",
       "      <td>1267.344158</td>\n",
       "      <td>216.324130</td>\n",
       "      <td>180.006204</td>\n",
       "      <td>50.406826</td>\n",
       "    </tr>\n",
       "    <tr>\n",
       "      <th>9986</th>\n",
       "      <td>1030.170000</td>\n",
       "      <td>188.590000</td>\n",
       "      <td>6</td>\n",
       "      <td>1267.344158</td>\n",
       "      <td>216.324130</td>\n",
       "      <td>180.006204</td>\n",
       "      <td>50.406826</td>\n",
       "    </tr>\n",
       "    <tr>\n",
       "      <th>9987</th>\n",
       "      <td>1034.000000</td>\n",
       "      <td>213.960000</td>\n",
       "      <td>6</td>\n",
       "      <td>1267.344158</td>\n",
       "      <td>216.324130</td>\n",
       "      <td>180.006204</td>\n",
       "      <td>50.406826</td>\n",
       "    </tr>\n",
       "    <tr>\n",
       "      <th>9988</th>\n",
       "      <td>1328.140000</td>\n",
       "      <td>195.510000</td>\n",
       "      <td>6</td>\n",
       "      <td>1267.344158</td>\n",
       "      <td>216.324130</td>\n",
       "      <td>180.006204</td>\n",
       "      <td>50.406826</td>\n",
       "    </tr>\n",
       "    <tr>\n",
       "      <th>9989</th>\n",
       "      <td>1084.640000</td>\n",
       "      <td>170.250000</td>\n",
       "      <td>6</td>\n",
       "      <td>1267.344158</td>\n",
       "      <td>216.324130</td>\n",
       "      <td>180.006204</td>\n",
       "      <td>50.406826</td>\n",
       "    </tr>\n",
       "    <tr>\n",
       "      <th>9990</th>\n",
       "      <td>1350.880000</td>\n",
       "      <td>198.480000</td>\n",
       "      <td>6</td>\n",
       "      <td>1267.344158</td>\n",
       "      <td>216.324130</td>\n",
       "      <td>180.006204</td>\n",
       "      <td>50.406826</td>\n",
       "    </tr>\n",
       "    <tr>\n",
       "      <th>9991</th>\n",
       "      <td>1046.720000</td>\n",
       "      <td>345.750000</td>\n",
       "      <td>6</td>\n",
       "      <td>1267.344158</td>\n",
       "      <td>216.324130</td>\n",
       "      <td>180.006204</td>\n",
       "      <td>50.406826</td>\n",
       "    </tr>\n",
       "    <tr>\n",
       "      <th>9992</th>\n",
       "      <td>1254.530000</td>\n",
       "      <td>262.660000</td>\n",
       "      <td>6</td>\n",
       "      <td>1267.344158</td>\n",
       "      <td>216.324130</td>\n",
       "      <td>180.006204</td>\n",
       "      <td>50.406826</td>\n",
       "    </tr>\n",
       "    <tr>\n",
       "      <th>9993</th>\n",
       "      <td>1040.070000</td>\n",
       "      <td>147.150000</td>\n",
       "      <td>6</td>\n",
       "      <td>1267.344158</td>\n",
       "      <td>216.324130</td>\n",
       "      <td>180.006204</td>\n",
       "      <td>50.406826</td>\n",
       "    </tr>\n",
       "    <tr>\n",
       "      <th>9994</th>\n",
       "      <td>1457.500000</td>\n",
       "      <td>246.990000</td>\n",
       "      <td>6</td>\n",
       "      <td>1267.344158</td>\n",
       "      <td>216.324130</td>\n",
       "      <td>180.006204</td>\n",
       "      <td>50.406826</td>\n",
       "    </tr>\n",
       "    <tr>\n",
       "      <th>9995</th>\n",
       "      <td>1457.490000</td>\n",
       "      <td>205.390000</td>\n",
       "      <td>6</td>\n",
       "      <td>1267.344158</td>\n",
       "      <td>216.324130</td>\n",
       "      <td>180.006204</td>\n",
       "      <td>50.406826</td>\n",
       "    </tr>\n",
       "    <tr>\n",
       "      <th>9996</th>\n",
       "      <td>4019.890000</td>\n",
       "      <td>33.410000</td>\n",
       "      <td>8</td>\n",
       "      <td>4302.220000</td>\n",
       "      <td>195.615000</td>\n",
       "      <td>399.274915</td>\n",
       "      <td>229.392511</td>\n",
       "    </tr>\n",
       "    <tr>\n",
       "      <th>9997</th>\n",
       "      <td>4584.550000</td>\n",
       "      <td>357.820000</td>\n",
       "      <td>8</td>\n",
       "      <td>4302.220000</td>\n",
       "      <td>195.615000</td>\n",
       "      <td>399.274915</td>\n",
       "      <td>229.392511</td>\n",
       "    </tr>\n",
       "    <tr>\n",
       "      <th>9998</th>\n",
       "      <td>17506.380000</td>\n",
       "      <td>35.310000</td>\n",
       "      <td>2</td>\n",
       "      <td>17506.380000</td>\n",
       "      <td>35.310000</td>\n",
       "      <td>0.000010</td>\n",
       "      <td>0.000010</td>\n",
       "    </tr>\n",
       "    <tr>\n",
       "      <th>9999</th>\n",
       "      <td>78265.245000</td>\n",
       "      <td>60.030000</td>\n",
       "      <td>1</td>\n",
       "      <td>78265.245000</td>\n",
       "      <td>60.030000</td>\n",
       "      <td>0.000010</td>\n",
       "      <td>0.000010</td>\n",
       "    </tr>\n",
       "  </tbody>\n",
       "</table>\n",
       "<p>10000 rows × 7 columns</p>\n",
       "</div>"
      ],
      "text/plain": [
       "           revenue         tax  cluster  revenue_mean    tax_mean  \\\n",
       "0       260.500000   88.480000        9    210.510237   42.857508   \n",
       "1       172.560000   29.350000        9    210.510237   42.857508   \n",
       "2       157.500000   43.930000        9    210.510237   42.857508   \n",
       "3       309.990000   43.540000        9    210.510237   42.857508   \n",
       "4       280.672500   52.700000        9    210.510237   42.857508   \n",
       "5       148.900000   31.510000        9    210.510237   42.857508   \n",
       "6       143.420000   29.940000        9    210.510237   42.857508   \n",
       "7       261.000000   64.000000        9    210.510237   42.857508   \n",
       "8       235.930000   24.185000        9    210.510237   42.857508   \n",
       "9       138.500000   26.870000        9    210.510237   42.857508   \n",
       "10      167.500000   28.900000        9    210.510237   42.857508   \n",
       "11      243.990000   36.270000        9    210.510237   42.857508   \n",
       "12      243.990000   40.690000        9    210.510237   42.857508   \n",
       "13      340.500000   32.000000        9    210.510237   42.857508   \n",
       "14      157.630000   44.200000        9    210.510237   42.857508   \n",
       "15      154.990000   41.060000        9    210.510237   42.857508   \n",
       "16      181.870000   23.530000        9    210.510237   42.857508   \n",
       "17      143.450000   30.150000        9    210.510237   42.857508   \n",
       "18      159.165000   11.830000        9    210.510237   42.857508   \n",
       "19      146.970000   67.470000        9    210.510237   42.857508   \n",
       "20      237.990000   70.110000        9    210.510237   42.857508   \n",
       "21      164.870000   23.520000        9    210.510237   42.857508   \n",
       "22      219.280000   33.860000        9    210.510237   42.857508   \n",
       "23      148.820000   30.350000        9    210.510237   42.857508   \n",
       "24      289.000000   34.730000        9    210.510237   42.857508   \n",
       "25      260.500000   53.270000        9    210.510237   42.857508   \n",
       "26      189.786667   46.466667        9    210.510237   42.857508   \n",
       "27      161.575000   95.780000        9    210.510237   42.857508   \n",
       "28      313.580000   57.800000        9    210.510237   42.857508   \n",
       "29      152.820000   35.380000        9    210.510237   42.857508   \n",
       "...            ...         ...      ...           ...         ...   \n",
       "9970   1509.290000  190.170000        6   1267.344158  216.324130   \n",
       "9971   1356.000000  266.410000        6   1267.344158  216.324130   \n",
       "9972   1381.130000  292.840000        6   1267.344158  216.324130   \n",
       "9973   1283.950000  263.780000        6   1267.344158  216.324130   \n",
       "9974   1077.990000  137.930000        6   1267.344158  216.324130   \n",
       "9975   1114.000000  259.490000        6   1267.344158  216.324130   \n",
       "9976   1457.500000  166.720000        6   1267.344158  216.324130   \n",
       "9977   1079.220000  196.070000        6   1267.344158  216.324130   \n",
       "9978   1220.620000  246.990000        6   1267.344158  216.324130   \n",
       "9979   1013.700000  244.780000        6   1267.344158  216.324130   \n",
       "9980   1302.490000  218.190000        6   1267.344158  216.324130   \n",
       "9981   1181.500000  199.090000        6   1267.344158  216.324130   \n",
       "9982   1534.630000  198.710000        6   1267.344158  216.324130   \n",
       "9983   1034.000000  164.060000        6   1267.344158  216.324130   \n",
       "9984   1303.500000  207.370000        6   1267.344158  216.324130   \n",
       "9985   1133.000000  340.000000        6   1267.344158  216.324130   \n",
       "9986   1030.170000  188.590000        6   1267.344158  216.324130   \n",
       "9987   1034.000000  213.960000        6   1267.344158  216.324130   \n",
       "9988   1328.140000  195.510000        6   1267.344158  216.324130   \n",
       "9989   1084.640000  170.250000        6   1267.344158  216.324130   \n",
       "9990   1350.880000  198.480000        6   1267.344158  216.324130   \n",
       "9991   1046.720000  345.750000        6   1267.344158  216.324130   \n",
       "9992   1254.530000  262.660000        6   1267.344158  216.324130   \n",
       "9993   1040.070000  147.150000        6   1267.344158  216.324130   \n",
       "9994   1457.500000  246.990000        6   1267.344158  216.324130   \n",
       "9995   1457.490000  205.390000        6   1267.344158  216.324130   \n",
       "9996   4019.890000   33.410000        8   4302.220000  195.615000   \n",
       "9997   4584.550000  357.820000        8   4302.220000  195.615000   \n",
       "9998  17506.380000   35.310000        2  17506.380000   35.310000   \n",
       "9999  78265.245000   60.030000        1  78265.245000   60.030000   \n",
       "\n",
       "      revenue_stdev   tax_stdev  \n",
       "0         54.004817   20.081730  \n",
       "1         54.004817   20.081730  \n",
       "2         54.004817   20.081730  \n",
       "3         54.004817   20.081730  \n",
       "4         54.004817   20.081730  \n",
       "5         54.004817   20.081730  \n",
       "6         54.004817   20.081730  \n",
       "7         54.004817   20.081730  \n",
       "8         54.004817   20.081730  \n",
       "9         54.004817   20.081730  \n",
       "10        54.004817   20.081730  \n",
       "11        54.004817   20.081730  \n",
       "12        54.004817   20.081730  \n",
       "13        54.004817   20.081730  \n",
       "14        54.004817   20.081730  \n",
       "15        54.004817   20.081730  \n",
       "16        54.004817   20.081730  \n",
       "17        54.004817   20.081730  \n",
       "18        54.004817   20.081730  \n",
       "19        54.004817   20.081730  \n",
       "20        54.004817   20.081730  \n",
       "21        54.004817   20.081730  \n",
       "22        54.004817   20.081730  \n",
       "23        54.004817   20.081730  \n",
       "24        54.004817   20.081730  \n",
       "25        54.004817   20.081730  \n",
       "26        54.004817   20.081730  \n",
       "27        54.004817   20.081730  \n",
       "28        54.004817   20.081730  \n",
       "29        54.004817   20.081730  \n",
       "...             ...         ...  \n",
       "9970     180.006204   50.406826  \n",
       "9971     180.006204   50.406826  \n",
       "9972     180.006204   50.406826  \n",
       "9973     180.006204   50.406826  \n",
       "9974     180.006204   50.406826  \n",
       "9975     180.006204   50.406826  \n",
       "9976     180.006204   50.406826  \n",
       "9977     180.006204   50.406826  \n",
       "9978     180.006204   50.406826  \n",
       "9979     180.006204   50.406826  \n",
       "9980     180.006204   50.406826  \n",
       "9981     180.006204   50.406826  \n",
       "9982     180.006204   50.406826  \n",
       "9983     180.006204   50.406826  \n",
       "9984     180.006204   50.406826  \n",
       "9985     180.006204   50.406826  \n",
       "9986     180.006204   50.406826  \n",
       "9987     180.006204   50.406826  \n",
       "9988     180.006204   50.406826  \n",
       "9989     180.006204   50.406826  \n",
       "9990     180.006204   50.406826  \n",
       "9991     180.006204   50.406826  \n",
       "9992     180.006204   50.406826  \n",
       "9993     180.006204   50.406826  \n",
       "9994     180.006204   50.406826  \n",
       "9995     180.006204   50.406826  \n",
       "9996     399.274915  229.392511  \n",
       "9997     399.274915  229.392511  \n",
       "9998       0.000010    0.000010  \n",
       "9999       0.000010    0.000010  \n",
       "\n",
       "[10000 rows x 7 columns]"
      ]
     },
     "execution_count": 94,
     "metadata": {},
     "output_type": "execute_result"
    }
   ],
   "source": [
    "merged"
   ]
  },
  {
   "cell_type": "code",
   "execution_count": 98,
   "metadata": {
    "collapsed": true
   },
   "outputs": [],
   "source": [
    "# funcion para hallar el z-score de cada punto.\n",
    "from math import sqrt\n",
    "def is_outlayer(row):\n",
    "    z_rev = (row['revenue'] - row['revenue_mean'])/row['revenue_stdev']\n",
    "    z_tax = (row['tax'] - row['tax_mean'])/row['tax_stdev']\n",
    "    z = sqrt(z_rev**2 + z_tax**2)\n",
    "    return (z > 3)"
   ]
  },
  {
   "cell_type": "code",
   "execution_count": 100,
   "metadata": {
    "collapsed": false
   },
   "outputs": [],
   "source": [
    "outlayer = merged.apply(is_outlayer, axis = 1)"
   ]
  },
  {
   "cell_type": "code",
   "execution_count": 102,
   "metadata": {
    "collapsed": false
   },
   "outputs": [
    {
     "data": {
      "text/plain": [
       "344"
      ]
     },
     "execution_count": 102,
     "metadata": {},
     "output_type": "execute_result"
    }
   ],
   "source": [
    "outlayer.sum()"
   ]
  },
  {
   "cell_type": "code",
   "execution_count": 103,
   "metadata": {
    "collapsed": true
   },
   "outputs": [],
   "source": [
    "merged['outlayer'] = outlayer"
   ]
  },
  {
   "cell_type": "code",
   "execution_count": 104,
   "metadata": {
    "collapsed": false
   },
   "outputs": [
    {
     "data": {
      "text/html": [
       "<div>\n",
       "<table border=\"1\" class=\"dataframe\">\n",
       "  <thead>\n",
       "    <tr style=\"text-align: right;\">\n",
       "      <th></th>\n",
       "      <th>revenue</th>\n",
       "      <th>tax</th>\n",
       "      <th>cluster</th>\n",
       "      <th>revenue_mean</th>\n",
       "      <th>tax_mean</th>\n",
       "      <th>revenue_stdev</th>\n",
       "      <th>tax_stdev</th>\n",
       "      <th>outlayer</th>\n",
       "    </tr>\n",
       "  </thead>\n",
       "  <tbody>\n",
       "    <tr>\n",
       "      <th>0</th>\n",
       "      <td>260.5000</td>\n",
       "      <td>88.48</td>\n",
       "      <td>9</td>\n",
       "      <td>210.510237</td>\n",
       "      <td>42.857508</td>\n",
       "      <td>54.004817</td>\n",
       "      <td>20.08173</td>\n",
       "      <td>False</td>\n",
       "    </tr>\n",
       "    <tr>\n",
       "      <th>1</th>\n",
       "      <td>172.5600</td>\n",
       "      <td>29.35</td>\n",
       "      <td>9</td>\n",
       "      <td>210.510237</td>\n",
       "      <td>42.857508</td>\n",
       "      <td>54.004817</td>\n",
       "      <td>20.08173</td>\n",
       "      <td>False</td>\n",
       "    </tr>\n",
       "    <tr>\n",
       "      <th>2</th>\n",
       "      <td>157.5000</td>\n",
       "      <td>43.93</td>\n",
       "      <td>9</td>\n",
       "      <td>210.510237</td>\n",
       "      <td>42.857508</td>\n",
       "      <td>54.004817</td>\n",
       "      <td>20.08173</td>\n",
       "      <td>False</td>\n",
       "    </tr>\n",
       "    <tr>\n",
       "      <th>3</th>\n",
       "      <td>309.9900</td>\n",
       "      <td>43.54</td>\n",
       "      <td>9</td>\n",
       "      <td>210.510237</td>\n",
       "      <td>42.857508</td>\n",
       "      <td>54.004817</td>\n",
       "      <td>20.08173</td>\n",
       "      <td>False</td>\n",
       "    </tr>\n",
       "    <tr>\n",
       "      <th>4</th>\n",
       "      <td>280.6725</td>\n",
       "      <td>52.70</td>\n",
       "      <td>9</td>\n",
       "      <td>210.510237</td>\n",
       "      <td>42.857508</td>\n",
       "      <td>54.004817</td>\n",
       "      <td>20.08173</td>\n",
       "      <td>False</td>\n",
       "    </tr>\n",
       "  </tbody>\n",
       "</table>\n",
       "</div>"
      ],
      "text/plain": [
       "    revenue    tax  cluster  revenue_mean   tax_mean  revenue_stdev  \\\n",
       "0  260.5000  88.48        9    210.510237  42.857508      54.004817   \n",
       "1  172.5600  29.35        9    210.510237  42.857508      54.004817   \n",
       "2  157.5000  43.93        9    210.510237  42.857508      54.004817   \n",
       "3  309.9900  43.54        9    210.510237  42.857508      54.004817   \n",
       "4  280.6725  52.70        9    210.510237  42.857508      54.004817   \n",
       "\n",
       "   tax_stdev outlayer  \n",
       "0   20.08173    False  \n",
       "1   20.08173    False  \n",
       "2   20.08173    False  \n",
       "3   20.08173    False  \n",
       "4   20.08173    False  "
      ]
     },
     "execution_count": 104,
     "metadata": {},
     "output_type": "execute_result"
    }
   ],
   "source": [
    "merged.head()"
   ]
  },
  {
   "cell_type": "code",
   "execution_count": 105,
   "metadata": {
    "collapsed": true
   },
   "outputs": [],
   "source": [
    "simple_outliers = merged[['revenue', 'tax', 'outlayer']]"
   ]
  },
  {
   "cell_type": "code",
   "execution_count": 106,
   "metadata": {
    "collapsed": false
   },
   "outputs": [
    {
     "data": {
      "text/html": [
       "<div>\n",
       "<table border=\"1\" class=\"dataframe\">\n",
       "  <thead>\n",
       "    <tr style=\"text-align: right;\">\n",
       "      <th></th>\n",
       "      <th>revenue</th>\n",
       "      <th>tax</th>\n",
       "      <th>outlayer</th>\n",
       "    </tr>\n",
       "  </thead>\n",
       "  <tbody>\n",
       "    <tr>\n",
       "      <th>0</th>\n",
       "      <td>260.5000</td>\n",
       "      <td>88.48</td>\n",
       "      <td>False</td>\n",
       "    </tr>\n",
       "    <tr>\n",
       "      <th>1</th>\n",
       "      <td>172.5600</td>\n",
       "      <td>29.35</td>\n",
       "      <td>False</td>\n",
       "    </tr>\n",
       "    <tr>\n",
       "      <th>2</th>\n",
       "      <td>157.5000</td>\n",
       "      <td>43.93</td>\n",
       "      <td>False</td>\n",
       "    </tr>\n",
       "    <tr>\n",
       "      <th>3</th>\n",
       "      <td>309.9900</td>\n",
       "      <td>43.54</td>\n",
       "      <td>False</td>\n",
       "    </tr>\n",
       "    <tr>\n",
       "      <th>4</th>\n",
       "      <td>280.6725</td>\n",
       "      <td>52.70</td>\n",
       "      <td>False</td>\n",
       "    </tr>\n",
       "  </tbody>\n",
       "</table>\n",
       "</div>"
      ],
      "text/plain": [
       "    revenue    tax outlayer\n",
       "0  260.5000  88.48    False\n",
       "1  172.5600  29.35    False\n",
       "2  157.5000  43.93    False\n",
       "3  309.9900  43.54    False\n",
       "4  280.6725  52.70    False"
      ]
     },
     "execution_count": 106,
     "metadata": {},
     "output_type": "execute_result"
    }
   ],
   "source": [
    "simple_outliers.head()"
   ]
  },
  {
   "cell_type": "code",
   "execution_count": 107,
   "metadata": {
    "collapsed": false
   },
   "outputs": [
    {
     "data": {
      "image/png": "[encoded data removed]",
      "text/plain": [
       "<matplotlib.figure.Figure at 0x7f84fa80a3d0>"
      ]
     },
     "metadata": {},
     "output_type": "display_data"
    }
   ],
   "source": [
    "plt.scatter(simple_outliers['revenue'], simple_outliers['tax'], c=simple_outliers['outlayer'], alpha=0.1)\n",
    "plt.xlim(-50,2000)\n",
    "plt.ylim(-50,600)\n",
    "plt.show()"
   ]
  },
  {
   "cell_type": "code",
   "execution_count": null,
   "metadata": {
    "collapsed": true
   },
   "outputs": [],
   "source": [
    "# Los outliers quedan arriba y entre los clusters."
   ]
  }
 ],
 "metadata": {
  "kernelspec": {
   "display_name": "Python 2",
   "language": "python",
   "name": "python2"
  },
  "language_info": {
   "codemirror_mode": {
    "name": "ipython",
    "version": 2
   },
   "file_extension": ".py",
   "mimetype": "text/x-python",
   "name": "python",
   "nbconvert_exporter": "python",
   "pygments_lexer": "ipython2",
   "version": "2.7.10"
  }
 },
 "nbformat": 4,
 "nbformat_minor": 0
}
