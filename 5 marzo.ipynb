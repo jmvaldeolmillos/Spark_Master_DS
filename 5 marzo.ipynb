{
 "cells": [
  {
   "cell_type": "code",
   "execution_count": 1,
   "metadata": {
    "collapsed": true
   },
   "outputs": [],
   "source": [
    "# diferencia entre groupByKey y reduceByKey (mejor pues trabaja bajo demanda sin cargar todos los datos.)\n",
    "# en un claster es mejor usar el segundo que el primero.\n",
    "\n",
    "ls = sc.textFile('data/coupon150720.csv')"
   ]
  },
  {
   "cell_type": "code",
   "execution_count": 2,
   "metadata": {
    "collapsed": false
   },
   "outputs": [
    {
     "data": {
      "text/plain": [
       "u'79062005698500,1,MAA,AUH,9W,9W,56.79,USD,1,H,H,0526,150904,OK,IAF0'"
      ]
     },
     "execution_count": 2,
     "metadata": {},
     "output_type": "execute_result"
    }
   ],
   "source": [
    "ls.first()"
   ]
  },
  {
   "cell_type": "markdown",
   "metadata": {},
   "source": [
    "## Top ten de aerolineas por ingresos."
   ]
  },
  {
   "cell_type": "code",
   "execution_count": 6,
   "metadata": {
    "collapsed": true
   },
   "outputs": [],
   "source": [
    "def getAlIngreso(l):\n",
    "    elems = l.split(',')\n",
    "    al = elems[4]\n",
    "    ingreso = float(elems[6])\n",
    "    return(al, ingreso)"
   ]
  },
  {
   "cell_type": "code",
   "execution_count": 7,
   "metadata": {
    "collapsed": false
   },
   "outputs": [
    {
     "data": {
      "text/plain": [
       "(u'9W', 56.79)"
      ]
     },
     "execution_count": 7,
     "metadata": {},
     "output_type": "execute_result"
    }
   ],
   "source": [
    "getAlIngreso(ls.first())"
   ]
  },
  {
   "cell_type": "code",
   "execution_count": 9,
   "metadata": {
    "collapsed": true
   },
   "outputs": [],
   "source": [
    "als = ls.map(getAlIngreso)"
   ]
  },
  {
   "cell_type": "code",
   "execution_count": 10,
   "metadata": {
    "collapsed": false
   },
   "outputs": [
    {
     "data": {
      "text/plain": [
       "[(u'9W', 56.79), (u'9W', 84.34), (u'9W', 60.0)]"
      ]
     },
     "execution_count": 10,
     "metadata": {},
     "output_type": "execute_result"
    }
   ],
   "source": [
    "als.take(3)"
   ]
  },
  {
   "cell_type": "code",
   "execution_count": 11,
   "metadata": {
    "collapsed": false
   },
   "outputs": [
    {
     "data": {
      "text/plain": [
       "[(u'', <pyspark.resultiterable.ResultIterable at 0x7f1f7405aa90>),\n",
       " (u'BE', <pyspark.resultiterable.ResultIterable at 0x7f1f7405ac50>)]"
      ]
     },
     "execution_count": 11,
     "metadata": {},
     "output_type": "execute_result"
    }
   ],
   "source": [
    "# Agrupamos\n",
    "als.groupByKey().take(2)"
   ]
  },
  {
   "cell_type": "code",
   "execution_count": 13,
   "metadata": {
    "collapsed": false
   },
   "outputs": [],
   "source": [
    "# sumar los números para hallar los ingresos totales. Deberíamos controlar los outlayers.\n",
    "totales = als.groupByKey().mapValues(lambda vs: sum(vs))"
   ]
  },
  {
   "cell_type": "code",
   "execution_count": 14,
   "metadata": {
    "collapsed": true
   },
   "outputs": [],
   "source": [
    "# si vamos a reutilizar mucho un elemento, ej. totales debemos usar totales.cache() \n",
    "# para guardarlo para no repetir operaciones. Si no repite todo lo hecho anteriormente."
   ]
  },
  {
   "cell_type": "code",
   "execution_count": 15,
   "metadata": {
    "collapsed": false
   },
   "outputs": [
    {
     "data": {
      "text/plain": [
       "[(u'GA', 20712226.56999984),\n",
       " (u'BA', 12443986.980000038),\n",
       " (u'AF', 10221507.909999428),\n",
       " (u'QF', 8358587.900000253),\n",
       " (u'LH', 7715608.339999713),\n",
       " (u'QR', 6935584.369999946),\n",
       " (u'SV', 6286299.340001837),\n",
       " (u'UA', 5151815.289999981),\n",
       " (u'JJ', 5066300.509999913),\n",
       " (u'AA', 4151996.4599999674)]"
      ]
     },
     "execution_count": 15,
     "metadata": {},
     "output_type": "execute_result"
    }
   ],
   "source": [
    "# Ordemanos por la suma de valores. Sacamos los top ten\n",
    "totales.sortBy(lambda x: x[1], False).take(10)"
   ]
  },
  {
   "cell_type": "code",
   "execution_count": 22,
   "metadata": {
    "collapsed": false
   },
   "outputs": [],
   "source": [
    "# Repetimos lo mismo pero en vez de groupByKey por reduceByKey. CASI SIEMPRE USAR MEJOR REDUCEBYKEY!!\n",
    "totales = als.reduceByKey(lambda e,acum: e+acum)"
   ]
  },
  {
   "cell_type": "code",
   "execution_count": 21,
   "metadata": {
    "collapsed": false
   },
   "outputs": [
    {
     "data": {
      "text/plain": [
       "[(u'GA', 20712226.569999855),\n",
       " (u'BA', 12443986.980000002),\n",
       " (u'AF', 10221507.909999428),\n",
       " (u'QF', 8358587.9000001205),\n",
       " (u'LH', 7715608.339999718),\n",
       " (u'QR', 6935584.369999997),\n",
       " (u'SV', 6286299.340001843),\n",
       " (u'UA', 5151815.29),\n",
       " (u'JJ', 5066300.509999905),\n",
       " (u'AA', 4151996.4599999613)]"
      ]
     },
     "execution_count": 21,
     "metadata": {},
     "output_type": "execute_result"
    }
   ],
   "source": [
    "# Lo mismo de arriba, pero añadiendo ya la parte de sort.\n",
    "totales = als.reduceByKey(lambda e,acum: e+acum).sortBy(lambda x: x[1], False).take(10)"
   ]
  },
  {
   "cell_type": "markdown",
   "metadata": {},
   "source": [
    "## Top cinco ingreso medio por pasajero."
   ]
  },
  {
   "cell_type": "code",
   "execution_count": 29,
   "metadata": {
    "collapsed": false
   },
   "outputs": [
    {
     "data": {
      "text/plain": [
       "[(u'S3', 5225.068852459017),\n",
       " (u'9V', 1488.673986486487),\n",
       " (u'GA', 991.2527671691715),\n",
       " (u'TN', 964.6472580645161),\n",
       " (u'7F', 668.035)]"
      ]
     },
     "execution_count": 29,
     "metadata": {},
     "output_type": "execute_result"
    }
   ],
   "source": [
    "als.groupByKey().mapValues(lambda vs: sum(vs)/len(vs))\\\n",
    ".sortBy(lambda x: x[1], False).take(5)"
   ]
  },
  {
   "cell_type": "markdown",
   "metadata": {},
   "source": [
    "### Lo mismo pero con reduceByKey"
   ]
  },
  {
   "cell_type": "code",
   "execution_count": 32,
   "metadata": {
    "collapsed": false
   },
   "outputs": [
    {
     "data": {
      "text/plain": [
       "[(u'9W', (56.79, 1)), (u'9W', (84.34, 1))]"
      ]
     },
     "execution_count": 32,
     "metadata": {},
     "output_type": "execute_result"
    }
   ],
   "source": [
    "# paso necesario para crear una tupla.\n",
    "als.map(lambda x: (x[0], (x[1], 1))).take(2)"
   ]
  },
  {
   "cell_type": "code",
   "execution_count": 33,
   "metadata": {
    "collapsed": true
   },
   "outputs": [],
   "source": [
    "def calculaMediaReduce(e, acum):\n",
    "    sumaTotal = acum[0]\n",
    "    numElems = acum[1]\n",
    "    return(e[0]+sumaTotal, e[1] + numElems)"
   ]
  },
  {
   "cell_type": "code",
   "execution_count": 34,
   "metadata": {
    "collapsed": false
   },
   "outputs": [
    {
     "data": {
      "text/plain": [
       "[(u'', (478.31000000000006, 18811)), (u'BE', (64073.32999999998, 788))]"
      ]
     },
     "execution_count": 34,
     "metadata": {},
     "output_type": "execute_result"
    }
   ],
   "source": [
    "als.map(lambda x: (x[0], (x[1], 1))).reduceByKey(calculaMediaReduce).take(2)\n",
    "# devuelve: aerolinea, precio medio, cantidad tickets"
   ]
  },
  {
   "cell_type": "code",
   "execution_count": 35,
   "metadata": {
    "collapsed": true
   },
   "outputs": [],
   "source": [
    "# calculamos la media para cada grupo\n",
    "tr = als.map(lambda x: (x[0], (x[1], 1))).reduceByKey(calculaMediaReduce)"
   ]
  },
  {
   "cell_type": "code",
   "execution_count": 36,
   "metadata": {
    "collapsed": false
   },
   "outputs": [
    {
     "data": {
      "text/plain": [
       "[(u'S3', 5225.068852459017),\n",
       " (u'9V', 1488.6739864864867),\n",
       " (u'GA', 991.2527671691723),\n",
       " (u'TN', 964.6472580645161),\n",
       " (u'7F', 668.035)]"
      ]
     },
     "execution_count": 36,
     "metadata": {},
     "output_type": "execute_result"
    }
   ],
   "source": [
    "tr.mapValues(lambda x: x[0]/x[1]).sortBy(lambda x: x[1], False).take(5)"
   ]
  }
 ],
 "metadata": {
  "kernelspec": {
   "display_name": "PySpark",
   "language": "python",
   "name": "pyspark"
  },
  "language_info": {
   "codemirror_mode": {
    "name": "ipython",
    "version": 2
   },
   "file_extension": ".py",
   "mimetype": "text/x-python",
   "name": "python",
   "nbconvert_exporter": "python",
   "pygments_lexer": "ipython2",
   "version": "2.7.10"
  }
 },
 "nbformat": 4,
 "nbformat_minor": 0
}
