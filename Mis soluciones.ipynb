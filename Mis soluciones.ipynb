{
 "cells": [
  {
   "cell_type": "code",
   "execution_count": 3,
   "metadata": {
    "collapsed": false
   },
   "outputs": [],
   "source": [
    "a = range(1,10)"
   ]
  },
  {
   "cell_type": "code",
   "execution_count": 4,
   "metadata": {
    "collapsed": false
   },
   "outputs": [
    {
     "data": {
      "text/plain": [
       "[1, 2, 3, 4, 5, 6, 7, 8, 9]"
      ]
     },
     "execution_count": 4,
     "metadata": {},
     "output_type": "execute_result"
    }
   ],
   "source": [
    "a"
   ]
  },
  {
   "cell_type": "code",
   "execution_count": 14,
   "metadata": {
    "collapsed": false
   },
   "outputs": [
    {
     "data": {
      "text/plain": [
       "[1, 4, 9, 16, 25, 36, 49, 64, 81]"
      ]
     },
     "execution_count": 14,
     "metadata": {},
     "output_type": "execute_result"
    }
   ],
   "source": [
    "map(lambda y: y**2, a)"
   ]
  },
  {
   "cell_type": "code",
   "execution_count": 7,
   "metadata": {
    "collapsed": false
   },
   "outputs": [
    {
     "data": {
      "text/plain": [
       "[1, 2, 3, 4, 5, 6, 7, 8, 9]"
      ]
     },
     "execution_count": 7,
     "metadata": {},
     "output_type": "execute_result"
    }
   ],
   "source": [
    "a"
   ]
  },
  {
   "cell_type": "code",
   "execution_count": 8,
   "metadata": {
    "collapsed": false
   },
   "outputs": [
    {
     "data": {
      "text/plain": [
       "[2, 3, 4, 5, 6, 7, 8, 9, 10]"
      ]
     },
     "execution_count": 8,
     "metadata": {},
     "output_type": "execute_result"
    }
   ],
   "source": [
    "map(lambda x: x+1, a)"
   ]
  },
  {
   "cell_type": "code",
   "execution_count": 9,
   "metadata": {
    "collapsed": false
   },
   "outputs": [
    {
     "data": {
      "text/plain": [
       "[False, True, False, False, False, False, False, False, False]"
      ]
     },
     "execution_count": 9,
     "metadata": {},
     "output_type": "execute_result"
    }
   ],
   "source": [
    "# filter elements equal 2\n",
    "map(lambda x: x==2, a)"
   ]
  },
  {
   "cell_type": "code",
   "execution_count": 10,
   "metadata": {
    "collapsed": false
   },
   "outputs": [
    {
     "data": {
      "text/plain": [
       "[False, False, True, False, False, True, False, False, True]"
      ]
     },
     "execution_count": 10,
     "metadata": {},
     "output_type": "execute_result"
    }
   ],
   "source": [
    "# filter out elements multiple of 3\n",
    "map(lambda x: x%3==0,a)"
   ]
  },
  {
   "cell_type": "code",
   "execution_count": 11,
   "metadata": {
    "collapsed": false
   },
   "outputs": [
    {
     "data": {
      "text/plain": [
       "[2]"
      ]
     },
     "execution_count": 11,
     "metadata": {},
     "output_type": "execute_result"
    }
   ],
   "source": [
    "# filter elements equal 2\n",
    "# Ahora utilizando filter\n",
    "filter(lambda x: x==2, a)"
   ]
  },
  {
   "cell_type": "code",
   "execution_count": 12,
   "metadata": {
    "collapsed": false
   },
   "outputs": [
    {
     "data": {
      "text/plain": [
       "[3, 6, 9]"
      ]
     },
     "execution_count": 12,
     "metadata": {},
     "output_type": "execute_result"
    }
   ],
   "source": [
    "# filter out elements multiple of 3\n",
    "# Ahora utilizando filter\n",
    "filter(lambda x: x%3==0,a)"
   ]
  },
  {
   "cell_type": "code",
   "execution_count": 19,
   "metadata": {
    "collapsed": false
   },
   "outputs": [
    {
     "data": {
      "text/plain": [
       "45"
      ]
     },
     "execution_count": 19,
     "metadata": {},
     "output_type": "execute_result"
    }
   ],
   "source": [
    "# add all elements in the collection. Suma todos los elementos\n",
    "reduce(lambda x,y: x+y,a)"
   ]
  },
  {
   "cell_type": "code",
   "execution_count": 16,
   "metadata": {
    "collapsed": false
   },
   "outputs": [
    {
     "data": {
      "text/plain": [
       "9"
      ]
     },
     "execution_count": 16,
     "metadata": {},
     "output_type": "execute_result"
    }
   ],
   "source": [
    "# find the maximun in the collection. Max devuelve el mayor de los dos.\n",
    "reduce(lambda x,y: max(x,y), a)"
   ]
  },
  {
   "cell_type": "code",
   "execution_count": 17,
   "metadata": {
    "collapsed": false
   },
   "outputs": [
    {
     "name": "stdout",
     "output_type": "stream",
     "text": [
      "-43\n",
      "5\n"
     ]
    }
   ],
   "source": [
    "# subtract all elements in the collection: this is not commutative\n",
    "print reduce(lambda x,y: x-y,a)\n",
    "print reduce(lambda x,y: y-x,a)"
   ]
  },
  {
   "cell_type": "code",
   "execution_count": 20,
   "metadata": {
    "collapsed": false
   },
   "outputs": [
    {
     "name": "stdout",
     "output_type": "stream",
     "text": [
      "-4\n",
      "-6\n",
      "0\n"
     ]
    }
   ],
   "source": [
    "# subtract all elements in the collection. We can give a default value to start with.\n",
    "print reduce(lambda x,y: x-y,[1,2,3])\n",
    "print reduce(lambda x,y: x-y,[1,2,3],0)\n",
    "print reduce(lambda x,y: x-y,[1,2,3],6)"
   ]
  },
  {
   "cell_type": "code",
   "execution_count": 21,
   "metadata": {
    "collapsed": false
   },
   "outputs": [
    {
     "name": "stdout",
     "output_type": "stream",
     "text": [
      "5\n"
     ]
    }
   ],
   "source": [
    "# mean calculation: we need the sum the array and calculate the number of elements\n",
    "a = range(1,10)\n",
    "\n",
    "ocurrancies = map(lambda x: 1, a)\n",
    "count = reduce(lambda x,y: x+y,ocurrancies)\n",
    "mean = reduce(lambda x,y: x+y,a)/count\n",
    "\n",
    "# assert devuelve una excepcion si da falso. Si no no sale nada.\n",
    "\n",
    "assert len(ocurrancies) == len(a)\n",
    "assert count == len(a)\n",
    "assert mean == sum(a)/len(a)\n",
    "print(mean)"
   ]
  },
  {
   "cell_type": "code",
   "execution_count": 23,
   "metadata": {
    "collapsed": false
   },
   "outputs": [
    {
     "name": "stdout",
     "output_type": "stream",
     "text": [
      "5.19615242271\n"
     ]
    }
   ],
   "source": [
    "# std calculation: apart from the mean and count, the sum of the squares is required.\n",
    "squares = map(lambda x: x**2, a)\n",
    "sum_squares = reduce(lambda x,y: x+y, squares)\n",
    "\n",
    "std = pow((sum_squares+mean**2-2*count*mean)/(count-1),0.5)\n",
    "\n",
    "assert std == 27**0.5\n",
    "print(std)"
   ]
  },
  {
   "cell_type": "code",
   "execution_count": 24,
   "metadata": {
    "collapsed": false
   },
   "outputs": [
    {
     "name": "stdout",
     "output_type": "stream",
     "text": [
      "(9, 45, 285)\n",
      "5.19615242271\n"
     ]
    }
   ],
   "source": [
    "a = range(1,10)\n",
    "# ocurrancies, suma, cuadrado. Todo junto en un vector.\n",
    "map_tuples = map(lambda j: (1, j, j**2),a)\n",
    "reduce_tuples = reduce(lambda i,j:(i[0]+j[0],i[1]+j[1],i[2]+j[2]),map_tuples)\n",
    "\n",
    "print reduce_tuples\n",
    "count = reduce_tuples[0]\n",
    "mean = reduce_tuples[1]/count\n",
    "sum_sq = reduce_tuples[2]\n",
    "\n",
    "std = pow((sum_sq+mean**2-2*count*mean)/(count-1),0.5)\n",
    "\n",
    "assert std == 27**0.5\n",
    "print(std)"
   ]
  },
  {
   "cell_type": "markdown",
   "metadata": {},
   "source": [
    "## Ejercicio 1d"
   ]
  },
  {
   "cell_type": "code",
   "execution_count": 25,
   "metadata": {
    "collapsed": false
   },
   "outputs": [
    {
     "name": "stdout",
     "output_type": "stream",
     "text": [
      "[6, 1, 7, 1, 8, 7, 1, 4, 7, 5, 7, 1, 9, 7, 4, 8, 1, 2, 4, 3, 6, 7, 4, 5, 2, 7, 6, 6, 8, 8, 9, 8, 7, 9, 9, 6, 2, 3, 6, 8, 7, 2, 4, 8, 4, 7, 1, 2, 4, 1, 2, 5, 5, 7, 7, 2, 4, 6, 2, 9, 8, 2, 7, 9, 5, 3, 4, 3, 7, 6, 5, 2, 8, 4, 6, 2, 1, 3, 7, 6, 7, 4, 7, 8, 2, 1, 1, 4, 7, 6, 2, 1, 7, 8, 3, 3, 9, 6, 4, 6, 9, 3, 4, 8, 3, 6, 3, 1, 5, 9, 9, 6, 8, 7, 2, 9, 4, 1, 5, 2, 4, 9, 8, 8, 9, 2, 2, 6, 7, 9, 5, 8, 3, 9, 3, 6, 2, 9, 4, 9, 7, 9, 2, 7, 8, 4, 3, 2, 7, 6, 1, 6, 7, 2, 7, 5, 3, 2, 8, 9, 3, 2, 6, 1, 5, 3, 2, 8, 9, 4, 7, 7, 2, 6, 7, 4, 8, 7, 6, 8, 5, 7, 8, 8, 6, 3, 3, 4, 2, 7, 2, 2, 7, 3, 8, 4, 4, 3, 3, 8, 1, 7, 8, 4, 3, 4, 4, 6, 9, 4, 5, 2, 6, 7, 6, 2, 3, 8, 6, 5, 6, 3, 3, 6, 8, 8, 8, 3, 8, 8, 7, 9, 1, 7, 3, 7, 2, 9, 6, 9, 3, 2, 6, 9, 6, 2, 7, 3, 4, 8, 6, 9, 6, 1, 2, 9, 2, 5, 9, 1, 6, 3, 3, 9, 3, 8, 8, 3, 2, 1, 5, 8, 3, 3, 1, 8, 9, 9, 7, 6, 9, 6, 9, 4, 9, 2, 3, 2, 6, 2, 7, 7, 1, 7, 4, 8, 7, 3, 2, 8, 6, 8, 2, 8, 7, 9, 3, 6, 4, 8, 3, 3, 3, 1, 8, 8, 3, 4, 5, 5, 8, 9, 2, 3, 1, 9, 8, 2, 1, 6, 3, 8, 7, 1, 6, 3, 8, 7, 4, 2, 3, 3, 6, 9, 8, 8, 7, 6, 8, 7, 4, 6, 9, 8, 4, 4, 1, 3, 7, 4, 6, 8, 4, 7, 3, 1, 1, 8, 8, 2, 6, 2, 2, 1, 9, 7, 2, 6, 2, 8, 2, 9, 1, 5, 4, 6, 7, 7, 6, 9, 6, 5, 4, 1, 1, 2, 5, 4, 1, 6, 2, 9, 6, 5, 4, 7, 6, 9, 2, 2, 9, 3, 7, 8, 6, 5, 8, 2, 1, 2, 3, 6, 8, 3, 1, 8, 2, 3, 5, 8, 4, 1, 6, 7, 8, 8, 1, 2, 6, 4, 8, 6, 6, 4, 4, 6, 2, 7, 3, 6, 3, 4, 8, 8, 6, 8, 1, 1, 2, 3, 8, 4, 8, 3, 3, 7, 3, 8, 8, 8, 3, 9, 6, 7, 7, 8, 3, 7, 4, 9, 6, 1, 3, 2, 4, 7, 5, 7, 6, 8, 8, 8, 4, 6, 9, 7, 3, 1, 8, 8, 3, 3, 6, 2, 9, 2, 5, 8, 8, 7, 4, 5, 4, 3, 7, 4, 5, 7, 8, 8, 3, 5, 4, 5, 8, 7, 2, 7, 7, 8, 2, 4, 2, 9, 2, 3, 3, 8, 4, 9, 1, 8, 6, 6, 7, 4, 8, 1, 4, 4, 9, 7, 8, 4, 8, 9, 5, 1, 4, 7, 3, 8, 9, 7, 8, 4, 6, 2, 1, 3, 4, 3, 1, 1, 8, 2, 1, 6, 6, 8, 9, 6, 1, 6, 2, 6, 9, 9, 3, 2, 7, 6, 9, 9, 9, 2, 6, 5, 4, 1, 6, 7, 7, 8, 9, 4, 8, 8, 6, 8, 2, 3, 7, 1, 8, 4, 1, 8, 7, 9]\n"
     ]
    }
   ],
   "source": [
    "# Given a set of keys in an input collection, calculate the frequency of each key.\n",
    "# In order to understand better how map/reduce works, we will implement this simple calculation in several forms.\n",
    "# For simplicity, we are going to create a list of numbers between 1 and 9, that can be repated a (random) number of times.\n",
    "# Create array of numbers with repeated elements\n",
    "\n",
    "import random\n",
    "a = range(1,10)\n",
    "a = [[x]*random.randint(1,100) for x in a]\n",
    "a = [x for y in a for x in y]\n",
    "random.shuffle(a)\n",
    "print a"
   ]
  },
  {
   "cell_type": "code",
   "execution_count": null,
   "metadata": {
    "collapsed": true
   },
   "outputs": [],
   "source": [
    "# Start with an empty dict\n",
    "# If a new key is not present in the dict, create it.\n",
    "# Otherwise, increase the frequency of the key by one.\n",
    "\n",
    "def histSimple(lista):\n",
    "    # create empty dictionary\n",
    "    hist = {}\n",
    "    \n",
    "    for key in lista:\n",
    "        <fill in>\n",
    "    return hist  \n",
    "\n",
    "histSimple(a)"
   ]
  }
 ],
 "metadata": {
  "kernelspec": {
   "display_name": "PySpark",
   "language": "python",
   "name": "pyspark"
  },
  "language_info": {
   "codemirror_mode": {
    "name": "ipython",
    "version": 2
   },
   "file_extension": ".py",
   "mimetype": "text/x-python",
   "name": "python",
   "nbconvert_exporter": "python",
   "pygments_lexer": "ipython2",
   "version": "2.7.6"
  }
 },
 "nbformat": 4,
 "nbformat_minor": 0
}
